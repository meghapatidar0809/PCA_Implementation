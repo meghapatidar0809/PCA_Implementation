{
 "cells": [
  {
   "cell_type": "markdown",
   "id": "f3d0014a-ef1f-4b3f-85ba-fef78ff6e227",
   "metadata": {},
   "source": [
    "### 1. Importing libraries\n",
    "###"
   ]
  },
  {
   "cell_type": "code",
   "execution_count": 118,
   "id": "5627f4c5-3076-44df-9212-579e57092e20",
   "metadata": {},
   "outputs": [],
   "source": [
    "import pandas as pd\n",
    "import seaborn as sns    \n",
    "import numpy as np\n",
    "from sklearn.model_selection import train_test_split\n",
    "from sklearn.preprocessing import StandardScaler \n",
    "from sklearn.decomposition import PCA"
   ]
  },
  {
   "cell_type": "markdown",
   "id": "898f13e0-de77-4075-b359-5132fac4ab47",
   "metadata": {},
   "source": [
    "###\n",
    "### 2. Reading data from CSV file\n",
    "###"
   ]
  },
  {
   "cell_type": "code",
   "execution_count": 119,
   "id": "fc35b112-8590-4060-9a71-e26e57dc3f80",
   "metadata": {},
   "outputs": [
    {
     "data": {
      "text/html": [
       "<div>\n",
       "<style scoped>\n",
       "    .dataframe tbody tr th:only-of-type {\n",
       "        vertical-align: middle;\n",
       "    }\n",
       "\n",
       "    .dataframe tbody tr th {\n",
       "        vertical-align: top;\n",
       "    }\n",
       "\n",
       "    .dataframe thead th {\n",
       "        text-align: right;\n",
       "    }\n",
       "</style>\n",
       "<table border=\"1\" class=\"dataframe\">\n",
       "  <thead>\n",
       "    <tr style=\"text-align: right;\">\n",
       "      <th></th>\n",
       "      <th>Pregnancies</th>\n",
       "      <th>Glucose</th>\n",
       "      <th>BloodPressure</th>\n",
       "      <th>SkinThickness</th>\n",
       "      <th>Insulin</th>\n",
       "      <th>BMI</th>\n",
       "      <th>DiabetesPedigreeFunction</th>\n",
       "      <th>Age</th>\n",
       "      <th>Outcome</th>\n",
       "    </tr>\n",
       "  </thead>\n",
       "  <tbody>\n",
       "    <tr>\n",
       "      <th>0</th>\n",
       "      <td>6</td>\n",
       "      <td>148</td>\n",
       "      <td>72</td>\n",
       "      <td>35</td>\n",
       "      <td>0</td>\n",
       "      <td>33.6</td>\n",
       "      <td>0.627</td>\n",
       "      <td>50</td>\n",
       "      <td>1</td>\n",
       "    </tr>\n",
       "    <tr>\n",
       "      <th>1</th>\n",
       "      <td>1</td>\n",
       "      <td>85</td>\n",
       "      <td>66</td>\n",
       "      <td>29</td>\n",
       "      <td>0</td>\n",
       "      <td>26.6</td>\n",
       "      <td>0.351</td>\n",
       "      <td>31</td>\n",
       "      <td>0</td>\n",
       "    </tr>\n",
       "    <tr>\n",
       "      <th>2</th>\n",
       "      <td>8</td>\n",
       "      <td>183</td>\n",
       "      <td>64</td>\n",
       "      <td>0</td>\n",
       "      <td>0</td>\n",
       "      <td>23.3</td>\n",
       "      <td>0.672</td>\n",
       "      <td>32</td>\n",
       "      <td>1</td>\n",
       "    </tr>\n",
       "    <tr>\n",
       "      <th>3</th>\n",
       "      <td>1</td>\n",
       "      <td>89</td>\n",
       "      <td>66</td>\n",
       "      <td>23</td>\n",
       "      <td>94</td>\n",
       "      <td>28.1</td>\n",
       "      <td>0.167</td>\n",
       "      <td>21</td>\n",
       "      <td>0</td>\n",
       "    </tr>\n",
       "    <tr>\n",
       "      <th>4</th>\n",
       "      <td>0</td>\n",
       "      <td>137</td>\n",
       "      <td>40</td>\n",
       "      <td>35</td>\n",
       "      <td>168</td>\n",
       "      <td>43.1</td>\n",
       "      <td>2.288</td>\n",
       "      <td>33</td>\n",
       "      <td>1</td>\n",
       "    </tr>\n",
       "  </tbody>\n",
       "</table>\n",
       "</div>"
      ],
      "text/plain": [
       "   Pregnancies  Glucose  BloodPressure  SkinThickness  Insulin   BMI  \\\n",
       "0            6      148             72             35        0  33.6   \n",
       "1            1       85             66             29        0  26.6   \n",
       "2            8      183             64              0        0  23.3   \n",
       "3            1       89             66             23       94  28.1   \n",
       "4            0      137             40             35      168  43.1   \n",
       "\n",
       "   DiabetesPedigreeFunction  Age  Outcome  \n",
       "0                     0.627   50        1  \n",
       "1                     0.351   31        0  \n",
       "2                     0.672   32        1  \n",
       "3                     0.167   21        0  \n",
       "4                     2.288   33        1  "
      ]
     },
     "execution_count": 119,
     "metadata": {},
     "output_type": "execute_result"
    }
   ],
   "source": [
    "df=pd.read_csv('Diabetes.csv')\n",
    "df.head()"
   ]
  },
  {
   "cell_type": "markdown",
   "id": "171fe45b-14d1-418c-af37-8249387742f8",
   "metadata": {},
   "source": [
    "###\n",
    "### 3. Checking data information and presence of null values\n",
    "###"
   ]
  },
  {
   "cell_type": "code",
   "execution_count": 120,
   "id": "14b8a7fb-6bc3-436e-827a-29e56eab64f8",
   "metadata": {},
   "outputs": [
    {
     "name": "stdout",
     "output_type": "stream",
     "text": [
      "<class 'pandas.core.frame.DataFrame'>\n",
      "RangeIndex: 768 entries, 0 to 767\n",
      "Data columns (total 9 columns):\n",
      " #   Column                    Non-Null Count  Dtype  \n",
      "---  ------                    --------------  -----  \n",
      " 0   Pregnancies               768 non-null    int64  \n",
      " 1   Glucose                   768 non-null    int64  \n",
      " 2   BloodPressure             768 non-null    int64  \n",
      " 3   SkinThickness             768 non-null    int64  \n",
      " 4   Insulin                   768 non-null    int64  \n",
      " 5   BMI                       768 non-null    float64\n",
      " 6   DiabetesPedigreeFunction  768 non-null    float64\n",
      " 7   Age                       768 non-null    int64  \n",
      " 8   Outcome                   768 non-null    int64  \n",
      "dtypes: float64(2), int64(7)\n",
      "memory usage: 54.1 KB\n"
     ]
    }
   ],
   "source": [
    "df.info()"
   ]
  },
  {
   "cell_type": "markdown",
   "id": "f84e3b97-2a16-41f9-989d-8add8698831a",
   "metadata": {},
   "source": [
    "###\n",
    "### 4. Splitting data into input and output columns \n",
    "###"
   ]
  },
  {
   "cell_type": "code",
   "execution_count": 121,
   "id": "64e940fe-11fe-4305-b417-ad1b58c736ad",
   "metadata": {},
   "outputs": [],
   "source": [
    "X=df.iloc[:,:8]\n",
    "y=df.iloc[:,-1]"
   ]
  },
  {
   "cell_type": "markdown",
   "id": "24a8d224-694b-43a5-a425-1465f3669365",
   "metadata": {},
   "source": [
    "###\n",
    "### 5. Standardizing the data\n",
    "###"
   ]
  },
  {
   "cell_type": "code",
   "execution_count": 122,
   "id": "814375d8-13fd-470d-9aa8-5e6528d65f58",
   "metadata": {},
   "outputs": [
    {
     "data": {
      "text/plain": [
       "array([[ 0.63994726,  0.84832379,  0.14964075, ...,  0.20401277,\n",
       "         0.46849198,  1.4259954 ],\n",
       "       [-0.84488505, -1.12339636, -0.16054575, ..., -0.68442195,\n",
       "        -0.36506078, -0.19067191],\n",
       "       [ 1.23388019,  1.94372388, -0.26394125, ..., -1.10325546,\n",
       "         0.60439732, -0.10558415],\n",
       "       ...,\n",
       "       [ 0.3429808 ,  0.00330087,  0.14964075, ..., -0.73518964,\n",
       "        -0.68519336, -0.27575966],\n",
       "       [-0.84488505,  0.1597866 , -0.47073225, ..., -0.24020459,\n",
       "        -0.37110101,  1.17073215],\n",
       "       [-0.84488505, -0.8730192 ,  0.04624525, ..., -0.20212881,\n",
       "        -0.47378505, -0.87137393]])"
      ]
     },
     "execution_count": 122,
     "metadata": {},
     "output_type": "execute_result"
    }
   ],
   "source": [
    "scaler=StandardScaler()\n",
    "\n",
    "X_scaled=scaler.fit_transform(X)\n",
    "X_scaled"
   ]
  },
  {
   "cell_type": "markdown",
   "id": "edab28cb-128c-4e06-8767-abd88d69e2c5",
   "metadata": {},
   "source": [
    "###\n",
    "### 6. Converting standard data(numpy array) into given data frame \n",
    "###"
   ]
  },
  {
   "cell_type": "code",
   "execution_count": 123,
   "id": "e43286d9-7292-4553-a8a9-f91e1e2ffd2d",
   "metadata": {},
   "outputs": [
    {
     "data": {
      "text/html": [
       "<div>\n",
       "<style scoped>\n",
       "    .dataframe tbody tr th:only-of-type {\n",
       "        vertical-align: middle;\n",
       "    }\n",
       "\n",
       "    .dataframe tbody tr th {\n",
       "        vertical-align: top;\n",
       "    }\n",
       "\n",
       "    .dataframe thead th {\n",
       "        text-align: right;\n",
       "    }\n",
       "</style>\n",
       "<table border=\"1\" class=\"dataframe\">\n",
       "  <thead>\n",
       "    <tr style=\"text-align: right;\">\n",
       "      <th></th>\n",
       "      <th>Pregnancies</th>\n",
       "      <th>Glucose</th>\n",
       "      <th>BloodPressure</th>\n",
       "      <th>SkinThickness</th>\n",
       "      <th>Insulin</th>\n",
       "      <th>BMI</th>\n",
       "      <th>DiabetesPedigreeFunction</th>\n",
       "      <th>Age</th>\n",
       "    </tr>\n",
       "  </thead>\n",
       "  <tbody>\n",
       "    <tr>\n",
       "      <th>0</th>\n",
       "      <td>0.639947</td>\n",
       "      <td>0.848324</td>\n",
       "      <td>0.149641</td>\n",
       "      <td>0.907270</td>\n",
       "      <td>-0.692891</td>\n",
       "      <td>0.204013</td>\n",
       "      <td>0.468492</td>\n",
       "      <td>1.425995</td>\n",
       "    </tr>\n",
       "    <tr>\n",
       "      <th>1</th>\n",
       "      <td>-0.844885</td>\n",
       "      <td>-1.123396</td>\n",
       "      <td>-0.160546</td>\n",
       "      <td>0.530902</td>\n",
       "      <td>-0.692891</td>\n",
       "      <td>-0.684422</td>\n",
       "      <td>-0.365061</td>\n",
       "      <td>-0.190672</td>\n",
       "    </tr>\n",
       "    <tr>\n",
       "      <th>2</th>\n",
       "      <td>1.233880</td>\n",
       "      <td>1.943724</td>\n",
       "      <td>-0.263941</td>\n",
       "      <td>-1.288212</td>\n",
       "      <td>-0.692891</td>\n",
       "      <td>-1.103255</td>\n",
       "      <td>0.604397</td>\n",
       "      <td>-0.105584</td>\n",
       "    </tr>\n",
       "    <tr>\n",
       "      <th>3</th>\n",
       "      <td>-0.844885</td>\n",
       "      <td>-0.998208</td>\n",
       "      <td>-0.160546</td>\n",
       "      <td>0.154533</td>\n",
       "      <td>0.123302</td>\n",
       "      <td>-0.494043</td>\n",
       "      <td>-0.920763</td>\n",
       "      <td>-1.041549</td>\n",
       "    </tr>\n",
       "    <tr>\n",
       "      <th>4</th>\n",
       "      <td>-1.141852</td>\n",
       "      <td>0.504055</td>\n",
       "      <td>-1.504687</td>\n",
       "      <td>0.907270</td>\n",
       "      <td>0.765836</td>\n",
       "      <td>1.409746</td>\n",
       "      <td>5.484909</td>\n",
       "      <td>-0.020496</td>\n",
       "    </tr>\n",
       "    <tr>\n",
       "      <th>...</th>\n",
       "      <td>...</td>\n",
       "      <td>...</td>\n",
       "      <td>...</td>\n",
       "      <td>...</td>\n",
       "      <td>...</td>\n",
       "      <td>...</td>\n",
       "      <td>...</td>\n",
       "      <td>...</td>\n",
       "    </tr>\n",
       "    <tr>\n",
       "      <th>763</th>\n",
       "      <td>1.827813</td>\n",
       "      <td>-0.622642</td>\n",
       "      <td>0.356432</td>\n",
       "      <td>1.722735</td>\n",
       "      <td>0.870031</td>\n",
       "      <td>0.115169</td>\n",
       "      <td>-0.908682</td>\n",
       "      <td>2.532136</td>\n",
       "    </tr>\n",
       "    <tr>\n",
       "      <th>764</th>\n",
       "      <td>-0.547919</td>\n",
       "      <td>0.034598</td>\n",
       "      <td>0.046245</td>\n",
       "      <td>0.405445</td>\n",
       "      <td>-0.692891</td>\n",
       "      <td>0.610154</td>\n",
       "      <td>-0.398282</td>\n",
       "      <td>-0.531023</td>\n",
       "    </tr>\n",
       "    <tr>\n",
       "      <th>765</th>\n",
       "      <td>0.342981</td>\n",
       "      <td>0.003301</td>\n",
       "      <td>0.149641</td>\n",
       "      <td>0.154533</td>\n",
       "      <td>0.279594</td>\n",
       "      <td>-0.735190</td>\n",
       "      <td>-0.685193</td>\n",
       "      <td>-0.275760</td>\n",
       "    </tr>\n",
       "    <tr>\n",
       "      <th>766</th>\n",
       "      <td>-0.844885</td>\n",
       "      <td>0.159787</td>\n",
       "      <td>-0.470732</td>\n",
       "      <td>-1.288212</td>\n",
       "      <td>-0.692891</td>\n",
       "      <td>-0.240205</td>\n",
       "      <td>-0.371101</td>\n",
       "      <td>1.170732</td>\n",
       "    </tr>\n",
       "    <tr>\n",
       "      <th>767</th>\n",
       "      <td>-0.844885</td>\n",
       "      <td>-0.873019</td>\n",
       "      <td>0.046245</td>\n",
       "      <td>0.656358</td>\n",
       "      <td>-0.692891</td>\n",
       "      <td>-0.202129</td>\n",
       "      <td>-0.473785</td>\n",
       "      <td>-0.871374</td>\n",
       "    </tr>\n",
       "  </tbody>\n",
       "</table>\n",
       "<p>768 rows × 8 columns</p>\n",
       "</div>"
      ],
      "text/plain": [
       "     Pregnancies   Glucose  BloodPressure  SkinThickness   Insulin       BMI  \\\n",
       "0       0.639947  0.848324       0.149641       0.907270 -0.692891  0.204013   \n",
       "1      -0.844885 -1.123396      -0.160546       0.530902 -0.692891 -0.684422   \n",
       "2       1.233880  1.943724      -0.263941      -1.288212 -0.692891 -1.103255   \n",
       "3      -0.844885 -0.998208      -0.160546       0.154533  0.123302 -0.494043   \n",
       "4      -1.141852  0.504055      -1.504687       0.907270  0.765836  1.409746   \n",
       "..           ...       ...            ...            ...       ...       ...   \n",
       "763     1.827813 -0.622642       0.356432       1.722735  0.870031  0.115169   \n",
       "764    -0.547919  0.034598       0.046245       0.405445 -0.692891  0.610154   \n",
       "765     0.342981  0.003301       0.149641       0.154533  0.279594 -0.735190   \n",
       "766    -0.844885  0.159787      -0.470732      -1.288212 -0.692891 -0.240205   \n",
       "767    -0.844885 -0.873019       0.046245       0.656358 -0.692891 -0.202129   \n",
       "\n",
       "     DiabetesPedigreeFunction       Age  \n",
       "0                    0.468492  1.425995  \n",
       "1                   -0.365061 -0.190672  \n",
       "2                    0.604397 -0.105584  \n",
       "3                   -0.920763 -1.041549  \n",
       "4                    5.484909 -0.020496  \n",
       "..                        ...       ...  \n",
       "763                 -0.908682  2.532136  \n",
       "764                 -0.398282 -0.531023  \n",
       "765                 -0.685193 -0.275760  \n",
       "766                 -0.371101  1.170732  \n",
       "767                 -0.473785 -0.871374  \n",
       "\n",
       "[768 rows x 8 columns]"
      ]
     },
     "execution_count": 123,
     "metadata": {},
     "output_type": "execute_result"
    }
   ],
   "source": [
    "X=pd.DataFrame(X_scaled,columns=X.columns)\n",
    "X"
   ]
  },
  {
   "cell_type": "markdown",
   "id": "fa015a2c-9bc4-4d87-91bb-677a437340a1",
   "metadata": {},
   "source": [
    "###\n",
    "### 7. Creating a Correlation matrix\n",
    "###"
   ]
  },
  {
   "cell_type": "code",
   "execution_count": 124,
   "id": "51e1132a-ab3e-4240-b89e-908b361ebb4f",
   "metadata": {},
   "outputs": [
    {
     "data": {
      "text/html": [
       "<div>\n",
       "<style scoped>\n",
       "    .dataframe tbody tr th:only-of-type {\n",
       "        vertical-align: middle;\n",
       "    }\n",
       "\n",
       "    .dataframe tbody tr th {\n",
       "        vertical-align: top;\n",
       "    }\n",
       "\n",
       "    .dataframe thead th {\n",
       "        text-align: right;\n",
       "    }\n",
       "</style>\n",
       "<table border=\"1\" class=\"dataframe\">\n",
       "  <thead>\n",
       "    <tr style=\"text-align: right;\">\n",
       "      <th></th>\n",
       "      <th>Pregnancies</th>\n",
       "      <th>Glucose</th>\n",
       "      <th>BloodPressure</th>\n",
       "      <th>SkinThickness</th>\n",
       "      <th>Insulin</th>\n",
       "      <th>BMI</th>\n",
       "      <th>DiabetesPedigreeFunction</th>\n",
       "      <th>Age</th>\n",
       "    </tr>\n",
       "  </thead>\n",
       "  <tbody>\n",
       "    <tr>\n",
       "      <th>Pregnancies</th>\n",
       "      <td>1.000000</td>\n",
       "      <td>0.129459</td>\n",
       "      <td>0.141282</td>\n",
       "      <td>-0.081672</td>\n",
       "      <td>-0.073535</td>\n",
       "      <td>0.017683</td>\n",
       "      <td>-0.033523</td>\n",
       "      <td>0.544341</td>\n",
       "    </tr>\n",
       "    <tr>\n",
       "      <th>Glucose</th>\n",
       "      <td>0.129459</td>\n",
       "      <td>1.000000</td>\n",
       "      <td>0.152590</td>\n",
       "      <td>0.057328</td>\n",
       "      <td>0.331357</td>\n",
       "      <td>0.221071</td>\n",
       "      <td>0.137337</td>\n",
       "      <td>0.263514</td>\n",
       "    </tr>\n",
       "    <tr>\n",
       "      <th>BloodPressure</th>\n",
       "      <td>0.141282</td>\n",
       "      <td>0.152590</td>\n",
       "      <td>1.000000</td>\n",
       "      <td>0.207371</td>\n",
       "      <td>0.088933</td>\n",
       "      <td>0.281805</td>\n",
       "      <td>0.041265</td>\n",
       "      <td>0.239528</td>\n",
       "    </tr>\n",
       "    <tr>\n",
       "      <th>SkinThickness</th>\n",
       "      <td>-0.081672</td>\n",
       "      <td>0.057328</td>\n",
       "      <td>0.207371</td>\n",
       "      <td>1.000000</td>\n",
       "      <td>0.436783</td>\n",
       "      <td>0.392573</td>\n",
       "      <td>0.183928</td>\n",
       "      <td>-0.113970</td>\n",
       "    </tr>\n",
       "    <tr>\n",
       "      <th>Insulin</th>\n",
       "      <td>-0.073535</td>\n",
       "      <td>0.331357</td>\n",
       "      <td>0.088933</td>\n",
       "      <td>0.436783</td>\n",
       "      <td>1.000000</td>\n",
       "      <td>0.197859</td>\n",
       "      <td>0.185071</td>\n",
       "      <td>-0.042163</td>\n",
       "    </tr>\n",
       "    <tr>\n",
       "      <th>BMI</th>\n",
       "      <td>0.017683</td>\n",
       "      <td>0.221071</td>\n",
       "      <td>0.281805</td>\n",
       "      <td>0.392573</td>\n",
       "      <td>0.197859</td>\n",
       "      <td>1.000000</td>\n",
       "      <td>0.140647</td>\n",
       "      <td>0.036242</td>\n",
       "    </tr>\n",
       "    <tr>\n",
       "      <th>DiabetesPedigreeFunction</th>\n",
       "      <td>-0.033523</td>\n",
       "      <td>0.137337</td>\n",
       "      <td>0.041265</td>\n",
       "      <td>0.183928</td>\n",
       "      <td>0.185071</td>\n",
       "      <td>0.140647</td>\n",
       "      <td>1.000000</td>\n",
       "      <td>0.033561</td>\n",
       "    </tr>\n",
       "    <tr>\n",
       "      <th>Age</th>\n",
       "      <td>0.544341</td>\n",
       "      <td>0.263514</td>\n",
       "      <td>0.239528</td>\n",
       "      <td>-0.113970</td>\n",
       "      <td>-0.042163</td>\n",
       "      <td>0.036242</td>\n",
       "      <td>0.033561</td>\n",
       "      <td>1.000000</td>\n",
       "    </tr>\n",
       "  </tbody>\n",
       "</table>\n",
       "</div>"
      ],
      "text/plain": [
       "                          Pregnancies   Glucose  BloodPressure  SkinThickness  \\\n",
       "Pregnancies                  1.000000  0.129459       0.141282      -0.081672   \n",
       "Glucose                      0.129459  1.000000       0.152590       0.057328   \n",
       "BloodPressure                0.141282  0.152590       1.000000       0.207371   \n",
       "SkinThickness               -0.081672  0.057328       0.207371       1.000000   \n",
       "Insulin                     -0.073535  0.331357       0.088933       0.436783   \n",
       "BMI                          0.017683  0.221071       0.281805       0.392573   \n",
       "DiabetesPedigreeFunction    -0.033523  0.137337       0.041265       0.183928   \n",
       "Age                          0.544341  0.263514       0.239528      -0.113970   \n",
       "\n",
       "                           Insulin       BMI  DiabetesPedigreeFunction  \\\n",
       "Pregnancies              -0.073535  0.017683                 -0.033523   \n",
       "Glucose                   0.331357  0.221071                  0.137337   \n",
       "BloodPressure             0.088933  0.281805                  0.041265   \n",
       "SkinThickness             0.436783  0.392573                  0.183928   \n",
       "Insulin                   1.000000  0.197859                  0.185071   \n",
       "BMI                       0.197859  1.000000                  0.140647   \n",
       "DiabetesPedigreeFunction  0.185071  0.140647                  1.000000   \n",
       "Age                      -0.042163  0.036242                  0.033561   \n",
       "\n",
       "                               Age  \n",
       "Pregnancies               0.544341  \n",
       "Glucose                   0.263514  \n",
       "BloodPressure             0.239528  \n",
       "SkinThickness            -0.113970  \n",
       "Insulin                  -0.042163  \n",
       "BMI                       0.036242  \n",
       "DiabetesPedigreeFunction  0.033561  \n",
       "Age                       1.000000  "
      ]
     },
     "execution_count": 124,
     "metadata": {},
     "output_type": "execute_result"
    }
   ],
   "source": [
    "correlation_matrix=X.corr()\n",
    "correlation_matrix"
   ]
  },
  {
   "cell_type": "markdown",
   "id": "c8c3bc7f-909f-47c0-8359-d8b46c2cd43f",
   "metadata": {},
   "source": [
    "###\n",
    "### 8. Finding eigen values and eigen vectors\n",
    "###"
   ]
  },
  {
   "cell_type": "code",
   "execution_count": 125,
   "id": "a78a6264-8543-4245-99b5-19b6fa3f6f8b",
   "metadata": {},
   "outputs": [
    {
     "name": "stdout",
     "output_type": "stream",
     "text": [
      "[2.09437995 1.73121014 0.41981618 0.40446205 0.68262839 0.76234439\n",
      " 0.87552904 1.02962987]\n",
      "\n"
     ]
    },
    {
     "data": {
      "text/plain": [
       "array([[-0.1284321 , -0.59378583, -0.58879003,  0.11784098, -0.19359817,\n",
       "         0.47560573, -0.08069115,  0.01308692],\n",
       "       [-0.39308257, -0.17402908, -0.06015291,  0.45035526, -0.09416176,\n",
       "        -0.46632804,  0.40432871, -0.46792282],\n",
       "       [-0.36000261, -0.18389207, -0.19211793, -0.01129554,  0.6341159 ,\n",
       "        -0.32795306, -0.05598649,  0.53549442],\n",
       "       [-0.43982428,  0.33196534,  0.28221253,  0.5662838 , -0.00958944,\n",
       "         0.48786206, -0.03797608,  0.2376738 ],\n",
       "       [-0.43502617,  0.25078106, -0.13200992, -0.54862138,  0.27065061,\n",
       "         0.34693481,  0.34994376, -0.33670893],\n",
       "       [-0.45194134,  0.1009598 , -0.03536644, -0.34151764, -0.68537218,\n",
       "        -0.25320376, -0.05364595,  0.36186463],\n",
       "       [-0.27061144,  0.122069  , -0.08609107, -0.00825873,  0.08578409,\n",
       "        -0.11981049, -0.8336801 , -0.43318905],\n",
       "       [-0.19802707, -0.62058853,  0.71208542, -0.21166198,  0.03335717,\n",
       "         0.10928996, -0.0712006 , -0.07524755]])"
      ]
     },
     "execution_count": 125,
     "metadata": {},
     "output_type": "execute_result"
    }
   ],
   "source": [
    "eigen_values_corr, eigen_vectors_corr=np.linalg.eig(correlation_matrix)\n",
    "print(eigen_values_corr)\n",
    "print()\n",
    "eigen_vectors_corr"
   ]
  },
  {
   "cell_type": "markdown",
   "id": "ed0a6b6c-f39a-4d4a-ab8b-680704f063ba",
   "metadata": {},
   "source": [
    "###\n",
    "### 9. Creating covariance matrix just for cross validating the important PCs.\n",
    "###"
   ]
  },
  {
   "cell_type": "code",
   "execution_count": 126,
   "id": "71cded1d-1206-4396-b7ac-b59988a091a7",
   "metadata": {},
   "outputs": [
    {
     "data": {
      "text/plain": [
       "array([[ 1.00130378,  0.12962746,  0.14146618, -0.08177826, -0.07363049,\n",
       "         0.01770615, -0.03356638,  0.54505093],\n",
       "       [ 0.12962746,  1.00130378,  0.15278853,  0.05740263,  0.33178913,\n",
       "         0.2213593 ,  0.13751636,  0.26385788],\n",
       "       [ 0.14146618,  0.15278853,  1.00130378,  0.2076409 ,  0.08904933,\n",
       "         0.2821727 ,  0.04131875,  0.23984024],\n",
       "       [-0.08177826,  0.05740263,  0.2076409 ,  1.00130378,  0.43735204,\n",
       "         0.39308503,  0.18416737, -0.11411885],\n",
       "       [-0.07363049,  0.33178913,  0.08904933,  0.43735204,  1.00130378,\n",
       "         0.19811702,  0.18531222, -0.04221793],\n",
       "       [ 0.01770615,  0.2213593 ,  0.2821727 ,  0.39308503,  0.19811702,\n",
       "         1.00130378,  0.14083033,  0.03628912],\n",
       "       [-0.03356638,  0.13751636,  0.04131875,  0.18416737,  0.18531222,\n",
       "         0.14083033,  1.00130378,  0.03360507],\n",
       "       [ 0.54505093,  0.26385788,  0.23984024, -0.11411885, -0.04221793,\n",
       "         0.03628912,  0.03360507,  1.00130378]])"
      ]
     },
     "execution_count": 126,
     "metadata": {},
     "output_type": "execute_result"
    }
   ],
   "source": [
    "covariance_matrix=np.cov([X.iloc[:,0],X.iloc[:,1],X.iloc[:,2],X.iloc[:,3],X.iloc[:,4],X.iloc[:,5],X.iloc[:,6],X.iloc[:,7]])\n",
    "covariance_matrix"
   ]
  },
  {
   "cell_type": "code",
   "execution_count": 127,
   "id": "b2911e54-c8c4-484b-b10f-85bc1e87711a",
   "metadata": {},
   "outputs": [
    {
     "name": "stdout",
     "output_type": "stream",
     "text": [
      "[2.09711056 1.73346726 0.42036353 0.40498938 0.68351839 0.76333832\n",
      " 0.87667054 1.03097228]\n",
      "\n"
     ]
    },
    {
     "data": {
      "text/plain": [
       "array([[-0.1284321 , -0.59378583, -0.58879003,  0.11784098, -0.19359817,\n",
       "         0.47560573, -0.08069115,  0.01308692],\n",
       "       [-0.39308257, -0.17402908, -0.06015291,  0.45035526, -0.09416176,\n",
       "        -0.46632804,  0.40432871, -0.46792282],\n",
       "       [-0.36000261, -0.18389207, -0.19211793, -0.01129554,  0.6341159 ,\n",
       "        -0.32795306, -0.05598649,  0.53549442],\n",
       "       [-0.43982428,  0.33196534,  0.28221253,  0.5662838 , -0.00958944,\n",
       "         0.48786206, -0.03797608,  0.2376738 ],\n",
       "       [-0.43502617,  0.25078106, -0.13200992, -0.54862138,  0.27065061,\n",
       "         0.34693481,  0.34994376, -0.33670893],\n",
       "       [-0.45194134,  0.1009598 , -0.03536644, -0.34151764, -0.68537218,\n",
       "        -0.25320376, -0.05364595,  0.36186463],\n",
       "       [-0.27061144,  0.122069  , -0.08609107, -0.00825873,  0.08578409,\n",
       "        -0.11981049, -0.8336801 , -0.43318905],\n",
       "       [-0.19802707, -0.62058853,  0.71208542, -0.21166198,  0.03335717,\n",
       "         0.10928996, -0.0712006 , -0.07524755]])"
      ]
     },
     "execution_count": 127,
     "metadata": {},
     "output_type": "execute_result"
    }
   ],
   "source": [
    "eigen_values_cov, eigen_vectors_cov=np.linalg.eig(covariance_matrix)\n",
    "print(eigen_values_cov)\n",
    "print()\n",
    "eigen_vectors_cov"
   ]
  },
  {
   "cell_type": "markdown",
   "id": "3465f3ae-e02f-4904-b520-8d1310502c77",
   "metadata": {},
   "source": [
    "###\n",
    "### 10. Creating new DataFrame with top two principal components and outcomes using eigen values and eigen vectors.\n",
    "###"
   ]
  },
  {
   "cell_type": "code",
   "execution_count": 128,
   "id": "1f0b2ed4-3051-42f3-bafa-ae1343260a6f",
   "metadata": {},
   "outputs": [
    {
     "data": {
      "text/plain": [
       "array([[-0.1284321 , -0.59378583, -0.58879003,  0.11784098, -0.19359817,\n",
       "         0.47560573, -0.08069115,  0.01308692],\n",
       "       [-0.39308257, -0.17402908, -0.06015291,  0.45035526, -0.09416176,\n",
       "        -0.46632804,  0.40432871, -0.46792282]])"
      ]
     },
     "execution_count": 128,
     "metadata": {},
     "output_type": "execute_result"
    }
   ],
   "source": [
    "pc=eigen_vectors_corr[:2]\n",
    "pc"
   ]
  },
  {
   "cell_type": "code",
   "execution_count": 129,
   "id": "0d1d24cd-5aac-4b9f-a4b8-d4cb41c1e43b",
   "metadata": {},
   "outputs": [
    {
     "data": {
      "text/html": [
       "<div>\n",
       "<style scoped>\n",
       "    .dataframe tbody tr th:only-of-type {\n",
       "        vertical-align: middle;\n",
       "    }\n",
       "\n",
       "    .dataframe tbody tr th {\n",
       "        vertical-align: top;\n",
       "    }\n",
       "\n",
       "    .dataframe thead th {\n",
       "        text-align: right;\n",
       "    }\n",
       "</style>\n",
       "<table border=\"1\" class=\"dataframe\">\n",
       "  <thead>\n",
       "    <tr style=\"text-align: right;\">\n",
       "      <th></th>\n",
       "      <th>PC1</th>\n",
       "      <th>PC2</th>\n",
       "      <th>Outcome</th>\n",
       "    </tr>\n",
       "  </thead>\n",
       "  <tbody>\n",
       "    <tr>\n",
       "      <th>0</th>\n",
       "      <td>-0.355075</td>\n",
       "      <td>-0.507317</td>\n",
       "      <td>1</td>\n",
       "    </tr>\n",
       "    <tr>\n",
       "      <th>1</th>\n",
       "      <td>0.768246</td>\n",
       "      <td>1.102389</td>\n",
       "      <td>0</td>\n",
       "    </tr>\n",
       "    <tr>\n",
       "      <th>2</th>\n",
       "      <td>-1.749747</td>\n",
       "      <td>-0.514054</td>\n",
       "      <td>1</td>\n",
       "    </tr>\n",
       "    <tr>\n",
       "      <th>3</th>\n",
       "      <td>0.615796</td>\n",
       "      <td>0.918929</td>\n",
       "      <td>0</td>\n",
       "    </tr>\n",
       "    <tr>\n",
       "      <th>4</th>\n",
       "      <td>0.919575</td>\n",
       "      <td>2.358007</td>\n",
       "      <td>1</td>\n",
       "    </tr>\n",
       "  </tbody>\n",
       "</table>\n",
       "</div>"
      ],
      "text/plain": [
       "        PC1       PC2  Outcome\n",
       "0 -0.355075 -0.507317        1\n",
       "1  0.768246  1.102389        0\n",
       "2 -1.749747 -0.514054        1\n",
       "3  0.615796  0.918929        0\n",
       "4  0.919575  2.358007        1"
      ]
     },
     "execution_count": 129,
     "metadata": {},
     "output_type": "execute_result"
    }
   ],
   "source": [
    "transformed_df=np.dot(X,pc.T)\n",
    "\n",
    "new_df=pd.DataFrame(transformed_df,columns=['PC1','PC2'])\n",
    "new_df['Outcome']=y\n",
    "new_df.head()"
   ]
  },
  {
   "cell_type": "markdown",
   "id": "8dbfa625-07fa-4aeb-bd48-43451f1696e8",
   "metadata": {},
   "source": [
    "###\n",
    "### 11. Plotting scatter plot\n",
    "###"
   ]
  },
  {
   "cell_type": "code",
   "execution_count": 130,
   "id": "cbc62728-cceb-4ced-acbe-a610971df221",
   "metadata": {},
   "outputs": [
    {
     "data": {
      "text/plain": [
       "<Axes: xlabel='PC1', ylabel='PC2'>"
      ]
     },
     "execution_count": 130,
     "metadata": {},
     "output_type": "execute_result"
    },
    {
     "data": {
      "image/png": "[encoded data removed]",
      "text/plain": [
       "<Figure size 640x480 with 1 Axes>"
      ]
     },
     "metadata": {},
     "output_type": "display_data"
    }
   ],
   "source": [
    "sns.scatterplot(x=new_df['PC1'],\n",
    "                y=new_df['PC2'],\n",
    "                hue=new_df['Outcome'],\n",
    "                color='blue')"
   ]
  },
  {
   "cell_type": "markdown",
   "id": "a190fa57-27ce-4f9a-8d21-ff3ffddf1236",
   "metadata": {},
   "source": [
    "###\n",
    "### 11. Plotting scatter plot using \"plotly\" for better visual representation\n",
    "###"
   ]
  },
  {
   "cell_type": "code",
   "execution_count": 131,
   "id": "565b5629-9ddb-46be-b1a9-ffeea97a000e",
   "metadata": {},
   "outputs": [
    {
     "data": {
      "application/vnd.plotly.v1+json": {
       "config": {
        "plotlyServerURL": "https://plot.ly"
       },
       "data": [
        {
         "hovertemplate": "color=1<br>x=%{x}<br>y=%{y}<extra></extra>",
         "legendgroup": "1",
         "marker": {
          "color": "#3366CC",
          "line": {
           "color": "black",
           "width": 1
          },
          "size": 9,
          "symbol": "circle"
         },
         "mode": "markers",
         "name": "1",
         "orientation": "v",
         "showlegend": true,
         "type": "scatter",
         "x": [
          -0.35507509993920694,
          -1.7497472959397962,
          0.9195747648746591,
          1.4684596120333924,
          -1.9605951826885517,
          -2.9206842390041676,
          -0.9291916361277615,
          -2.217308380405965,
          -1.5238622526632801,
          2.2292025006187566,
          0.5018832787676518,
          -0.12258764048444012,
          0.3756358842458908,
          -1.684736882699087,
          -0.3864287133077889,
          -1.1096226549125294,
          -0.3372616913478235,
          -0.3226240848716403,
          -1.1525137419090805,
          0.22241797923909368,
          1.3311247748402357,
          0.18155618258423173,
          -1.8445225446002227,
          -0.3380191885562494,
          0.983323210881664,
          -1.957359362213124,
          -1.149313419135984,
          -0.3788195014769411,
          0.19527609090491926,
          -0.060777479669555046,
          0.4847342782880686,
          -0.42645673281704016,
          2.762353223210459,
          -0.46651107749312676,
          -0.30254663164327883,
          -0.7724728272298115,
          0.5436442179754775,
          -0.5398165057753146,
          0.6215970984575616,
          -0.852559099977211,
          -1.1155076039568221,
          -0.5745377661711366,
          -1.2203058308920336,
          -0.0805522682812971,
          0.6020853429916015,
          0.1805995097299394,
          3.4114001525210083,
          -0.3025783900594786,
          -0.3096097523205035,
          -1.3096737738247466,
          0.08627224048655163,
          -0.6713269026449711,
          0.16480165186868725,
          -1.4602221653435798,
          -0.6412446633709661,
          0.15699547814574144,
          -0.8096432955315302,
          -0.7250935423185593,
          -0.24268192543166053,
          -0.13900408863557484,
          -0.2352716409172026,
          -1.2665752927371041,
          1.0034646493655852,
          -0.30818850698323125,
          -1.0779990292646768,
          -1.9447761779686914,
          -0.9218993888378756,
          -0.3588061336429859,
          -0.7458947551391434,
          -0.8230107449151285,
          2.7583166298367607,
          -0.7934375676244182,
          -0.10602191730550463,
          0.567558923562642,
          -0.5773391671473183,
          -1.7115898661931916,
          -1.4441606883870708,
          -1.2713308840138589,
          0.5125371358241875,
          -0.31115372966418736,
          -0.5437844981707812,
          0.6722269986067739,
          0.2536681175808,
          0.6086967212351485,
          -1.2281360345729528,
          -1.341263423597586,
          0.31239426081151783,
          -0.2599426569881645,
          -0.09467399880891564,
          -0.35196280015071796,
          -1.6480465203274188,
          -0.719999073399258,
          -1.4743682302362147,
          -0.24346982319772623,
          -0.1181216578284941,
          -2.0432878834040396,
          -0.32122924233515776,
          0.7177490088862494,
          -1.2954302303842085,
          1.5467550430721906,
          0.2159111663680015,
          2.053073772442564,
          1.4691468640921586,
          0.54139774345009,
          0.2999610580714818,
          0.01956163728466669,
          -1.4035859224580263,
          -0.26788538377440013,
          0.26502577603184413,
          0.9003105190919656,
          0.1142514310454227,
          1.0766147968214848,
          -0.9781986219775567,
          -0.10499836803870058,
          1.3011646434570077,
          -0.04235760611699458,
          0.4885788926729829,
          -1.3569947953246497,
          -0.4548018380591413,
          -0.15605636773319648,
          -1.0887887945218802,
          0.06766532853333315,
          -1.333888948583417,
          -2.129571138197805,
          0.2867480954374872,
          -0.029168921395461903,
          -1.7514384845020132,
          0.33034040055375796,
          0.8419738224301283,
          1.8334219741071345,
          -0.1664876441026698,
          -1.0688421811903623,
          -1.1323137653035815,
          2.6684716404149933,
          -1.6462388183531034,
          0.5647016834247442,
          2.2734372464918278,
          -1.4980960474604028,
          -1.5539985421587388,
          -0.34219299638900197,
          -0.49022955119801426,
          -1.0439597093124455,
          -1.8012834803644224,
          -0.855753206312053,
          0.1845975682488241,
          0.06929908613004664,
          0.1973577239313758,
          -1.1376278101176804,
          -0.2571895082678313,
          -1.0122878629942238,
          0.5253928659052007,
          -0.900914441536293,
          0.6867655118740356,
          -0.41186813341097644,
          -0.636193356727018,
          -0.15124215577068523,
          -2.2760504713704854,
          -0.8700135008683669,
          0.19488148691981144,
          -1.6965854192942407,
          -0.23193170760416085,
          -0.24140245461436297,
          -0.4720839919974215,
          -1.2939731276446536,
          -0.7839811442812681,
          0.31240798469670317,
          2.54740530050418,
          -1.8571195567617211,
          -0.17183224596994093,
          0.2341841147120804,
          0.37248095296621264,
          0.8394991190827571,
          -0.43324111288635153,
          -0.8067546875219153,
          -1.023779761997658,
          1.899420422230884,
          0.06810680102813925,
          -0.7869862459211938,
          2.4803803403360973,
          0.4286655735450987,
          -0.5365009119667072,
          -1.8587502632237505,
          2.853007082692786,
          -1.2520092356270032,
          0.41642836049612963,
          -0.8184386334696143,
          -1.4164767867850818,
          -0.3082682880168397,
          1.9583261454433887,
          -0.587538389298452,
          0.40936327589021865,
          -0.3413261929163761,
          0.1892427188348363,
          -1.9741017805129033,
          -1.0627696020284307,
          -0.16828446159379823,
          -0.8847947017104517,
          0.37049074070150984,
          0.3657724906037949,
          -0.48672453251655295,
          -0.1053954481158663,
          -1.5051833327040816,
          -0.2247074252136777,
          -1.6528297159837482,
          0.5321247706989846,
          -0.34910354106154523,
          -1.7813564983216683,
          -0.6374125810664136,
          -0.7839786688751944,
          0.7753251351993612,
          -1.1996876642806382,
          -0.7694522264087147,
          -1.5122268594078259,
          -0.5614382668251363,
          -0.6717652837229174,
          2.362642644193184,
          -0.19422928319697763,
          -0.18184180965848204,
          0.6188041102867929,
          -0.9767925740912063,
          -1.5442358327603312,
          -0.0282944382876818,
          -1.1459663201104344,
          -0.3163645599725744,
          0.41996339016263035,
          -0.8314836040325506,
          -1.7801282053457959,
          -0.5484836944546405,
          0.7410207094638959,
          -0.6016977234121116,
          -0.07920798131523431,
          -1.5376266411343213,
          -1.7341417574295728,
          0.8500546944391907,
          0.5024110125604145,
          -0.43550585757593324,
          0.20555098772175268,
          -1.736404872378185,
          0.3087980928565482,
          -1.797157581516704,
          -1.1772032121837375,
          -0.48803558556902976,
          -1.0484402479187402,
          0.07723712424478281,
          -1.1453162026591803,
          0.9960526332700852,
          0.6479680734730162,
          -1.1702589794336622,
          -1.2619731990992888,
          0.633581455791972,
          -0.5197636848114537,
          -0.5679060247490244,
          -0.8512630630085405,
          -0.7352748279479516,
          0.7995151080810803,
          -0.021875351288627866,
          -1.3351735984232542,
          0.21655019260468422,
          -1.1300407987985523,
          -1.0215357415264605,
          -0.5649322008672385,
          -1.3598066778596953,
          -0.7808321776742094,
          -0.37927772829001644,
          0.3347750426796456,
          -1.785537443866166,
          -0.29421085142866027,
          0.2041551261636445
         ],
         "xaxis": "x",
         "y": [
          -0.5073167823297973,
          -0.5140544067210103,
          2.358007344927188,
          0.7824867657723558,
          -0.971180331907009,
          -0.3318417379589709,
          -1.8114321264978204,
          -1.5711508993461556,
          -0.7107100080027599,
          -0.3723447740083365,
          0.4117112277881862,
          -0.8579629174459936,
          0.5803690442515581,
          -2.153749294952017,
          -0.060567967257378716,
          -1.980879831544918,
          -1.2000447373655536,
          -2.13618047203477,
          0.8717358018749309,
          -0.3158180535944882,
          0.9777635660189627,
          0.5831060749326447,
          -2.3507969202183694,
          2.194582788536304,
          -0.3596672836012168,
          -1.7426053492479427,
          -1.2993878342692433,
          -1.6043795520402198,
          -1.4936812887761637,
          1.0357834274939006,
          0.9527944447876889,
          -2.5645765844251356,
          -0.5277514635501841,
          -2.301857346121453,
          -2.1682750241324977,
          -1.4318608584142585,
          -0.13108925680432476,
          0.08970770648911776,
          0.47563251062780154,
          0.08102592932118237,
          -1.3737601766448366,
          -0.28744936668604854,
          -1.717272927122723,
          -1.2977286881635284,
          0.6123788731988762,
          0.04909893810600952,
          0.17956013203527715,
          -0.1625203732642824,
          -0.5999885722803859,
          -0.5515484677532988,
          -0.36560436143413405,
          0.03257238317271864,
          -1.7704285384880756,
          -0.305744739531484,
          -3.1320590057624216,
          -1.208715119662144,
          -1.8773796670581109,
          0.22384946647314674,
          -0.18835374440764796,
          -1.0993343122206805,
          -0.2443567127090145,
          -0.09515114441662793,
          -1.0204351379347254,
          -0.7185758224426952,
          -0.6936086948031646,
          -1.4901885403368165,
          1.845503898817861,
          0.5887013056464199,
          0.2916578738846849,
          -1.2052053893970374,
          -2.5534841319138284,
          -0.2750379489054434,
          1.2071052970471112,
          1.36074748609618,
          -0.3090977475822217,
          -1.9494761144590114,
          -2.4586416556453026,
          -1.0002119891056251,
          0.1610451245963971,
          -0.846622463670656,
          -1.1652726074890325,
          0.6441273604152883,
          1.2970094820828428,
          -1.5017755332484524,
          1.1509652402839257,
          -1.4408768723914047,
          0.7662082292653285,
          -0.752204351405542,
          -1.7634549000846496,
          -1.2049089916260207,
          -1.6195902013648835,
          0.26784170657911005,
          -0.24598517866678266,
          0.27267060397516624,
          1.1132539979004668,
          -0.6905563055198103,
          -0.9144221594155338,
          1.3439009439438927,
          -0.597457836786402,
          0.4085963745175853,
          -0.8930902586170014,
          0.6919231759712554,
          -0.02995772063781889,
          -0.31619986948210976,
          0.1834110479348143,
          -0.514926041813372,
          -1.9824578418747925,
          -0.9745217653597849,
          0.4707836228151526,
          1.222284598513241,
          0.868963783656152,
          0.9934949462836747,
          0.5805614028605506,
          -1.9121745537823127,
          0.45685755112293336,
          0.7214652280290301,
          -2.057246424244405,
          -1.2482419457288452,
          1.8270579410969425,
          0.8779718199699904,
          0.42141717747189306,
          0.20362502962443488,
          -0.6620459750319598,
          -2.1339365185431274,
          0.48014186015067667,
          0.37514505904319084,
          -0.6742527306315156,
          0.8174240644657593,
          -0.1431239301876771,
          -1.499850526872588,
          -1.1778970638007937,
          -0.09986481046271728,
          -2.1895047157096506,
          0.042363615429532694,
          -2.156263984988519,
          1.5774931312842293,
          -1.343113425542405,
          0.5944397694560077,
          0.013185433959562187,
          -2.367882265562746,
          -0.4903946976529242,
          -0.4809410338005914,
          2.2178455240594133,
          -2.0058038325649483,
          -1.9438904073002758,
          0.3224444758403251,
          -1.414227289966548,
          -1.3246744911696815,
          -1.640688227947185,
          -0.3229008136180082,
          0.9926506843776743,
          -0.06192932646616316,
          -0.6669194652773427,
          -0.16703640315458707,
          -1.6644161308145737,
          -0.9519298559856051,
          -0.4202281780375987,
          0.3268417931840342,
          1.1301922888484894,
          -0.23472111554007813,
          -0.2294777955913597,
          0.5115619664138488,
          -1.1607961792565433,
          -0.4900871435792882,
          -0.28386620209518,
          -0.3810292529593322,
          -0.7336851423482896,
          -0.32980051745690064,
          -0.24459359773844352,
          0.0018412634099369669,
          2.437511228670227,
          1.4337149538200744,
          0.3027082718146542,
          -1.7273769897135858,
          -0.6579443319208944,
          -1.204453712859942,
          1.2280369967762619,
          -0.47560068257162885,
          -0.42265911392723066,
          0.4699977017211513,
          0.3862103510728329,
          -1.3114632354118712,
          0.6415587067702153,
          -0.32165580974381297,
          -0.9850136266425039,
          -0.2427868751503514,
          -0.8023719743642057,
          -1.5479132225813759,
          -0.23199224191121626,
          1.1202841280617648,
          -0.5431565051754268,
          0.40547932351612925,
          -0.8575662346946775,
          -0.9724754031580894,
          -1.2249906779174211,
          -2.172212947916968,
          -0.10181930816555305,
          0.2003025686579254,
          -0.2058294328112214,
          0.9005655431656648,
          0.7704432023797437,
          -1.1401592405899572,
          -2.0103660883080243,
          -0.12504870692059913,
          -1.0038102418882295,
          -1.166812980210584,
          0.47627675077955495,
          -1.424592118928035,
          -1.1007003957058628,
          -0.8709218853728071,
          1.3426843640401949,
          -0.22374243196148563,
          -0.5261681708778231,
          -1.648158482459975,
          0.11615600439778404,
          0.0989211625740536,
          -0.2705301202665259,
          -1.6515402271632487,
          0.06469468428489178,
          -1.8211158259014406,
          0.4011494063993762,
          0.647091285943447,
          -0.985173405249201,
          -0.46287962955883755,
          1.7041880016600075,
          1.5131036222862946,
          -1.3503153731060253,
          -0.5057342606577482,
          -0.25150334017515447,
          -1.9787231964127874,
          -0.8267862266982563,
          -1.1946723430061523,
          -2.016762001973733,
          -0.693856936900207,
          -0.17994725434193926,
          -0.2806517294135924,
          -0.7065189799147208,
          -3.2261124373070937,
          -0.45570580489739154,
          -1.4917832708356455,
          -0.2948349571273401,
          -0.19448190863335038,
          -0.07486100114086372,
          0.778658183965618,
          -2.290560656642038,
          0.9404550515989896,
          -1.0105809300117938,
          -0.2827706058780834,
          0.8132832523705491,
          -0.8533055972837008,
          0.04354740183161767,
          0.09225011790304748,
          -0.6473591558340436,
          0.13988341672446877,
          -1.1066130454926977,
          -1.2718433122221764,
          -1.488102940812165,
          -0.15909212255897714,
          -0.769829564428687,
          -1.5390719467876661,
          0.7435542951338965,
          -0.3122525039509907,
          -0.8314599958253964,
          1.0296158692735358,
          -1.3495290712443577,
          -2.962673410213813,
          -1.7069224392513953,
          -0.7681363027391566
         ],
         "yaxis": "y"
        },
        {
         "hovertemplate": "color=0<br>x=%{x}<br>y=%{y}<extra></extra>",
         "legendgroup": "0",
         "marker": {
          "color": "#DC3912",
          "line": {
           "color": "black",
           "width": 1
          },
          "size": 9,
          "symbol": "circle"
         },
         "mode": "markers",
         "name": "0",
         "orientation": "v",
         "showlegend": true,
         "type": "scatter",
         "x": [
          0.7682461135498517,
          0.6157961051643005,
          -0.4432134803635957,
          2.237905343392459,
          -0.11467559273586724,
          -1.4255490954421748,
          2.5077899620381126,
          -0.36982292271773926,
          0.022161782367381623,
          -0.041986168243745285,
          -1.761132441097166,
          -0.5208459956340342,
          0.42573565435035154,
          0.5576935172936472,
          -0.9263775110658906,
          -0.5763825063009967,
          -0.09582218053313594,
          -0.7308146904300522,
          -0.6992359527678427,
          -0.3713371507611174,
          -0.9118010602418316,
          -0.9170798973300365,
          -0.14234831755202174,
          0.8709572866706363,
          0.36009133725027787,
          -0.7420629832713248,
          0.6008412781110025,
          0.33041626557197584,
          -0.7355888108103522,
          1.134487589637365,
          0.9726536368228141,
          -0.5235754114413688,
          1.2783632786561787,
          0.9379543893260317,
          1.1364857741396537,
          -0.4103187069613763,
          0.2792690731965007,
          0.15538935605407955,
          -0.024823620947702643,
          -1.0671514331613778,
          -0.41741084966033115,
          -0.7596138429693488,
          0.9181635969894758,
          2.7559534710310563,
          0.7507663989496156,
          0.937731700556141,
          0.08294616697906171,
          0.5108806951926762,
          1.1741327047020267,
          0.13694911456391223,
          0.42912507331916366,
          0.07296546076479413,
          0.5838539184215169,
          0.9608906147827814,
          0.2561013861853704,
          0.5404313208542909,
          -0.5709644208648144,
          1.4965837390455854,
          -1.2308331103392363,
          -0.625512812403263,
          1.0622638666527098,
          0.9898045955590538,
          0.9323464949794226,
          -0.48830394312848063,
          -1.3014424416195876,
          0.520172218038149,
          1.1853501810037446,
          0.06115499792057997,
          -1.5780211490111575,
          -0.24450418058600878,
          1.4189459580242485,
          0.6717943582557612,
          1.158731517738388,
          1.427370234855012,
          0.6332432040373901,
          -0.28513426425666566,
          0.7023091524139933,
          0.31776257226419413,
          -0.8036694045163372,
          0.6584329055800755,
          0.7096838716534508,
          0.9804502477562836,
          -0.14553490931555546,
          0.3662319581130011,
          0.4820891839583948,
          0.7287638002969378,
          -0.46215112572658057,
          0.18024605927199838,
          -0.9718206270804592,
          0.5481166567822996,
          0.9549129129219154,
          -0.5761908758707889,
          -1.4985041836224355,
          1.06399203508998,
          0.22815831484438673,
          -0.6172923439059282,
          0.5237833593599303,
          0.021701242148371696,
          -0.36579801183340727,
          -0.9473657577908459,
          0.43302040691206567,
          0.1296774599978587,
          0.43241137687440245,
          -1.0301309862370498,
          0.576041696202842,
          0.5019690030533094,
          0.6397243836408593,
          -0.13910703307352998,
          -0.174663715639134,
          0.2633208007839481,
          -0.7071970890303976,
          2.6868835713300703,
          2.0093374819244603,
          1.0321318013023275,
          0.2802768769482446,
          0.1259304850225298,
          -0.23919083030628813,
          0.4004187991359854,
          2.0671027461346965,
          0.8348055771243216,
          -0.7482850416683665,
          -0.08547925836074924,
          -0.01516962401871348,
          0.7014127963089714,
          0.3157117093361021,
          -0.10919248387063203,
          -0.07849538125875972,
          0.18866921439230103,
          -0.1723216015083727,
          0.46652979387864674,
          -0.2386021619770138,
          0.8660453655488174,
          1.009916613953885,
          0.22489113463684868,
          -1.5387953430588546,
          -0.24219974944717962,
          1.6589497001199984,
          -0.5427331771246001,
          0.028443635921987172,
          0.8310439752063515,
          0.571313932791062,
          -2.5984162635985673,
          0.8900633696838545,
          0.22284104034033195,
          0.1853285153820745,
          0.9448260580105228,
          -0.6211924232768944,
          0.8652194465732573,
          0.6540050379923203,
          -0.28630687656412807,
          -0.22638781100039648,
          -1.0004509494597424,
          -0.4782355042002308,
          -0.14458150938438288,
          0.5675014745562306,
          -0.7534690143849693,
          -0.10803166729439109,
          1.3253008168991,
          0.7470550163056929,
          0.2617537100274466,
          -1.602379029932377,
          -1.385235303735926,
          0.6290070692041967,
          -0.4744055816973983,
          0.25229232833288406,
          0.7062798081434262,
          0.6670916331619795,
          0.31117545301459754,
          -0.7589184286052851,
          1.1126972719309698,
          0.09070003130869672,
          1.15671706893823,
          0.31325253190994806,
          -0.5505622394847952,
          -0.40098138147101536,
          -0.3219741339546945,
          -1.0078394777898048,
          -0.98707235100859,
          -1.3699177979289499,
          0.22972809791259446,
          0.5801623452973982,
          0.7899544530802197,
          -0.5555326926237613,
          -0.2633695998856445,
          -0.6663564033898188,
          -0.6676904176511214,
          0.90275145742936,
          -1.3310005242155198,
          0.4795909061168676,
          -0.649616496992052,
          0.6741073598594195,
          0.8054506219259222,
          0.4766707138661038,
          0.4136401405557675,
          -0.6604327712361859,
          0.712855336796429,
          -0.48376222955903586,
          0.5642103064866519,
          -1.1065599662156747,
          -1.1014447275756354,
          0.30799635848373347,
          -0.8372818380528647,
          1.159564814934794,
          -0.7965313039841306,
          0.43540701775873464,
          -0.0072797989814284755,
          2.3138256979915868,
          -0.5663202610093037,
          0.04189001297456185,
          2.6380232996540696,
          -0.389026103645737,
          0.5304315160854889,
          -0.3212772848402617,
          0.2029628885883713,
          1.7544150450791416,
          0.07747008552359133,
          0.850450867956093,
          -0.7741173061667765,
          1.1574172066943624,
          0.5717547525276526,
          0.9294398143925933,
          0.5774920755788729,
          -0.8131653363363411,
          -0.12847929905134267,
          -0.7723632420367792,
          0.9833772641070352,
          0.15617523088247062,
          0.005749868106836058,
          -1.8930676992481352,
          1.220090930757313,
          1.0502827994200183,
          0.7693735132416347,
          -0.24877821585846344,
          1.4381016416116095,
          0.43095793303329905,
          0.17751279999395322,
          -0.058307604822410826,
          -0.1851166629050788,
          0.2958971938424205,
          -0.43256802749398926,
          0.06756753373416366,
          0.3245650366455011,
          0.4755626226984167,
          -1.0296715981101914,
          -0.6690644829703354,
          -0.5507920215935981,
          0.385286329071418,
          0.06365376522730071,
          -0.5203904411733565,
          0.6367929614222533,
          1.2055199053624408,
          0.129701330894759,
          0.07225517810698953,
          0.21640586406034518,
          -0.6559363253090634,
          -0.7195410085923263,
          0.2701125844715789,
          -0.0478676369824716,
          0.354884133846833,
          0.19437706461258747,
          1.344503110026066,
          0.40705936596543374,
          0.8445480281988442,
          -0.237331022300394,
          2.0492591709338064,
          0.3235751009785869,
          0.5360612308665581,
          -0.7794877912332507,
          0.14623306798362928,
          -0.5330418448861423,
          -0.8491957467940153,
          -0.14847786889277365,
          -0.19124655988170308,
          0.9313065716238977,
          0.3236114198342525,
          -0.09310615780126516,
          0.7551688988587246,
          -0.028839670313369183,
          0.25644256226916723,
          1.0920151161809113,
          1.398764775228126,
          1.2651755568580723,
          -0.05136681947692236,
          0.6158273956416155,
          -0.7754257260656497,
          -0.9400915091966987,
          0.6246567790262418,
          1.030676142868029,
          0.29176564708865294,
          -1.6380712969773765,
          -0.23425978004926967,
          1.3183906365110436,
          1.0762492106383723,
          -0.09762031645660299,
          0.08770395706892804,
          0.21728595235551107,
          0.9085862461584391,
          -1.0985548765951387,
          0.14728100670547933,
          -0.6199824363885257,
          -0.7745709213441463,
          -0.5510173827239545,
          -0.7100404320526305,
          0.044105061226602425,
          0.8432887616716037,
          0.862668572064199,
          -0.036789612532963735,
          -0.5831525966195004,
          0.07250144671961532,
          -2.2037160600565016,
          1.2195407700616856,
          0.3757592503896601,
          0.8259844506849977,
          1.0069436953778035,
          -1.335193502135876,
          -0.14710695981560057,
          0.5473905288175148,
          -1.197539331019812,
          -0.8747680961181958,
          1.2070741872020183,
          0.5919240720176243,
          0.8796434111551884,
          0.3431074708556939,
          -0.18901956878044596,
          1.1314937827375924,
          -0.8027720518147292,
          -0.7647732243546185,
          -0.0016300373952853112,
          0.5158229797999154,
          0.5584275403151074,
          -0.3293714469088255,
          0.8731499118440795,
          -2.1278524359350097,
          0.7722079489608414,
          -0.24386957782690225,
          0.2614730623505592,
          0.3205230210710691,
          0.43257780120233197,
          -0.11115873157205426,
          -0.3740778692499741,
          0.11936173483246672,
          -0.05674909833984822,
          0.05959200679290212,
          0.9181497761616455,
          1.5575965699001575,
          2.417267652648179,
          1.3118777183661399,
          -0.27487198664251605,
          0.9457276276036811,
          -0.227931003244005,
          0.6221817281383298,
          0.5397940019840817,
          -0.16451898664138473,
          -0.7981915175124729,
          -2.5622310612134473,
          0.13597874231850948,
          0.7336365145975834,
          -0.7086565657973083,
          0.8963166699895992,
          1.1992023929904971,
          -0.6523807238345551,
          1.2302739440623736,
          -0.3518033049234321,
          1.322976164705532,
          0.1571217300026936,
          1.2217426310189998,
          0.31895735514054335,
          0.339099554028371,
          0.513779858247648,
          1.0009336059005838,
          0.7870759947613984,
          -0.7293382398288467,
          0.8707225407954661,
          -1.4660673326494504,
          0.5389006987049042,
          0.8969373207974799,
          -1.3952084016993322,
          1.3810664002856605,
          0.2696437437302514,
          -0.6867360346914274,
          0.23368585447959445,
          -0.7233803098045131,
          0.4856342380063615,
          0.517315788884076,
          -0.08753469461968531,
          2.487520197526544,
          0.5907146384381032,
          0.7464535489781368,
          -0.24683749022019785,
          1.8058984946161352,
          1.8670216653372467,
          0.6610127782676185,
          -0.3923154605361151,
          2.028580286371232,
          -0.01580094280642793,
          0.7527748171295955,
          0.19424103393238723,
          -0.39436337919525005,
          -0.13133391912549439,
          0.6083898161263779,
          -0.005520825246668716,
          -0.1129472601521244,
          -0.9717483709997139,
          0.6459376434051706,
          0.18123448470525597,
          -0.24737187522972587,
          -1.7080800760851955,
          1.3192603183576839,
          0.43861564771943895,
          0.5986549686821651,
          -0.30270031955892246,
          -0.3179503353044908,
          -0.27498836084123257,
          0.3889117889335317,
          0.5518288298220776,
          0.1840916861016844,
          -0.8123903736193098,
          0.20487533653582757,
          0.004696512612413831,
          0.286491495841119,
          -0.33970728676718737,
          -0.3088327143854159,
          -0.012698266468576469,
          2.3769142157865555,
          -0.10974778097072323,
          -0.7223040172763506,
          0.5827544011883757,
          0.7594410327565166,
          0.5358003988067712,
          0.08723238567947056,
          0.212850404437919,
          0.5215774135431059,
          0.3173383512986909,
          0.051882147132467485,
          -1.0155911861225662,
          -1.6350411594038652,
          0.25655722643958806,
          0.7304490803546447,
          -1.0244092087052594,
          -0.9002657755014443,
          0.4788280970528475,
          -0.032238656457045115,
          0.30598748965468703,
          0.21533112581039227,
          1.1659110192919022,
          -0.07576110658147005,
          1.3401268726183815,
          1.6517075687004372,
          -2.667263558180727,
          -0.364642686686054,
          -0.5100702856578545,
          0.9143284130634709,
          -1.09819091592482,
          -0.7885448845495938,
          0.41707214381645735,
          0.4506390060331198,
          2.2581075008550946,
          -0.7766249169708288,
          0.6446129125840255,
          -0.0892231154456019,
          2.447949586894952,
          -0.18880534561354753,
          1.1319219660323916,
          0.43956134113755757,
          -1.0890639135425013,
          -0.39361793315265736,
          -0.4398552498048232,
          0.1503803436930587,
          -0.24911029734515006,
          0.8637435839667434,
          0.18289968111600122,
          0.643015198275565,
          0.03427225508137072,
          -0.3707929606642553,
          0.6765782107213305,
          0.05573631609896495,
          -0.4842832565458662,
          -2.053737258500749,
          1.0642278257526618,
          0.46866313280006267,
          -0.35552262214057506,
          1.2169845999857967,
          -0.7836459478265251,
          0.9234870052012611,
          0.862548262167931,
          1.0571792793316954,
          0.4262782230472385,
          -1.145561774703189,
          -0.4363393067595626,
          1.6006757325124217,
          0.45058548428715467,
          0.3376292895197163,
          -0.7436639300956834,
          0.5491529313689703,
          0.8662942550409628,
          0.10185029545768211,
          0.12091073533603179,
          0.519899506780839,
          -0.46801544645760457,
          0.7418492643324534
         ],
         "xaxis": "x",
         "y": [
          1.1023889423918212,
          0.9189287265009611,
          -0.4616786403491546,
          -1.4258755446447422,
          -1.0906857260213525,
          -0.8388519610830267,
          0.029506784357264847,
          0.5627132519505095,
          -1.8983442214102244,
          1.2527026050316532,
          -1.9515844333538062,
          -1.1786257393301351,
          -1.080847235375802,
          0.6871051225061159,
          -0.1025534741859949,
          -0.5505328205070104,
          1.4540764035010656,
          -1.66957841393653,
          -0.1491094532870209,
          -1.357195863393078,
          -0.6916581441918166,
          -1.2893655855478758,
          0.1382468804789946,
          1.5554037505780232,
          1.4759376547767753,
          1.3406983980094715,
          1.1948822338322918,
          0.5333493422623369,
          -0.3336190366299335,
          1.1661954893047695,
          1.4053662478511615,
          0.423802714268511,
          0.5984083511926203,
          2.292200618287583,
          0.235771939517711,
          1.5167963051203648,
          0.11524224043079043,
          -1.3105581505747468,
          1.1972855167628873,
          0.047912025445819385,
          0.5565656735345672,
          -0.35575429116284296,
          1.2290071280321029,
          1.5802051836123623,
          -1.0337138857949955,
          0.20082914063062293,
          0.9605184610775394,
          0.6820907002311434,
          2.0601858728619864,
          0.38188327120206433,
          1.4443300863362027,
          0.9621215801942382,
          -1.0857057631424771,
          0.18847765866448254,
          0.7513364502318178,
          1.073057842724496,
          -0.36441677722028915,
          -1.0795305314011094,
          1.2736259924744429,
          -0.9718093618519773,
          0.6446233009641259,
          1.5528233588084002,
          0.7011653866593436,
          0.12021438967394016,
          0.6208440769402117,
          0.9577291748343826,
          0.26638776423172533,
          1.6092595073083522,
          0.28107945353677344,
          -0.17567169614510414,
          0.7113167078468893,
          1.0126054759405556,
          -0.1558415136616516,
          0.09898024250549466,
          0.9119677197223692,
          0.6507194061357174,
          0.3835998600751195,
          0.7563765715097495,
          -2.209588635052906,
          -0.21785608945172658,
          0.8804930845620075,
          -0.5592226144321499,
          1.3135107263985872,
          -0.3295560202999263,
          1.4493129162338922,
          1.4610511977302483,
          0.3538939323532721,
          -0.4824777403173246,
          -0.9532228318578565,
          -0.6219994998317233,
          0.7364990595554025,
          0.02547206977352124,
          3.1714018119565273,
          -0.5729860957591906,
          1.8803894035298434,
          -2.4951178482385514,
          0.5990677177778881,
          0.9242983903323806,
          -0.08369956182663404,
          0.5531858727173157,
          1.3463454700052335,
          1.6563496516538145,
          0.6859142341019333,
          0.12017717153117742,
          -0.8548536986282931,
          -0.18123464670189537,
          0.9761049248692409,
          0.30591460284863276,
          -0.12374684280922013,
          -0.2907431919138411,
          0.2575923559600128,
          1.628580865254623,
          1.19931047992215,
          0.6202205771758299,
          -1.0101978354959809,
          -2.4596635856425855,
          -0.5195715301909966,
          0.9381593580555105,
          1.5369611139443051,
          -0.05370209843225781,
          -0.9451204619621615,
          0.30017874846009035,
          -0.4189393320998618,
          -0.5050704276062342,
          0.5330964152381575,
          1.4322031848548527,
          -0.8752817510419094,
          1.284544340753406,
          0.8783030460645591,
          -1.3140469813477815,
          0.8343820727123582,
          0.8528729070269835,
          0.927646334959524,
          0.8777885802143166,
          -1.9764539877455358,
          0.1217211984056319,
          -0.7266183064516655,
          -0.8464948606909891,
          1.3406890862367948,
          0.5510778708023629,
          -0.24472126698849006,
          1.6215373793442809,
          -0.12763169414566916,
          1.660934824427887,
          -0.639824993820561,
          0.9217901044364382,
          1.191952583940665,
          0.9847824586452348,
          0.8095023414804613,
          -0.0005920928274288807,
          -1.759158650383085,
          -0.8439674906655341,
          -0.9965386726808999,
          0.4734543687198689,
          -1.396361951637585,
          -0.13463518233460914,
          0.7305266571909985,
          0.848594008155161,
          1.1251234892905684,
          0.4220620355682323,
          0.5814157935018508,
          -0.6538642263230049,
          1.0419274338957114,
          -1.6823003271937598,
          0.08190858530772568,
          1.5263702057888369,
          0.5043762600896187,
          1.1204833999444328,
          -0.45287472912188187,
          1.7919975474406165,
          -2.652494764549564,
          1.3089501932653316,
          1.230782712982478,
          -0.8212782140144825,
          1.1912496324319284,
          -1.3025929255979247,
          -1.1409293093251685,
          -0.4951125350437832,
          -0.33195454839814664,
          0.8732346887037643,
          0.07635321774800324,
          1.046010960227857,
          -1.1582799891477749,
          0.13916828903636272,
          1.0064592667443375,
          -1.0000075793413168,
          -0.007951717516425155,
          -0.41873752454411783,
          0.04229902473509407,
          0.6356115678876773,
          0.15333702381833378,
          1.108212628340786,
          0.5629871474282939,
          0.268992164548751,
          0.5783675220135628,
          0.06692065357890455,
          0.02373604479624672,
          0.5070247335456723,
          0.38769061045454095,
          -2.2182275568342282,
          -0.34059580257271743,
          0.7880608382674792,
          0.24182271417158574,
          -1.7601802436425988,
          1.1154225242698288,
          -0.23462634247891967,
          0.19657041995851557,
          0.8545223275659418,
          0.9729193451702217,
          1.8137596881296918,
          -1.081031952510745,
          -2.08235373188786,
          -1.3204312898928277,
          1.1241470487538465,
          0.3878054607274193,
          0.8573541089508313,
          -1.1315990044407083,
          -0.7595873439760544,
          -0.2691126276166993,
          1.0950163350412212,
          -0.31563002990464534,
          -1.1150804790073112,
          -2.2331303468608215,
          -1.5227987394260696,
          -0.372842975989515,
          0.28297773754604666,
          1.407891746034687,
          0.6574177479315917,
          4.460976231322687,
          1.0696078649436382,
          0.729279414322417,
          1.2130661694974192,
          1.0120747313638585,
          1.1987298259343098,
          0.9580163467967129,
          1.5291588241476157,
          1.5147493429027599,
          1.4452342274094536,
          2.1760413930585814,
          0.8571692532347996,
          0.8165606040885969,
          1.099024370551851,
          0.2164410779626881,
          0.7111999526632168,
          0.17752438960237518,
          2.1146504777588895,
          1.4053971138236345,
          0.6643901811666929,
          -1.625921007336339,
          -0.5723117874233008,
          0.27256629102019164,
          0.8239115115630877,
          0.6092723072338784,
          0.8143991937218311,
          0.6160592051989122,
          0.8197973710884727,
          2.0361434412161583,
          1.2776015546590282,
          0.33158572241124495,
          1.2476231146294996,
          1.2958278258165348,
          0.8657706057308379,
          2.253327367802139,
          0.5100674083062233,
          0.5776034975018824,
          0.1261308853088289,
          0.9192049674377911,
          -0.24156709873820753,
          1.361928258522711,
          -1.5953302745665985,
          -0.5239831153784957,
          1.2752905505538175,
          -0.6333164993106947,
          0.9913430339475519,
          0.1698266908694483,
          1.0358202018162985,
          1.085385602473951,
          0.5290071574261807,
          1.31155018978971,
          0.5816232737665689,
          -0.4442643468093316,
          0.6225000919115834,
          -0.7817435191716416,
          0.61900061493211,
          -1.8754808524065623,
          -0.1513942708065434,
          0.9343713249386413,
          0.20226550603580382,
          0.1984151779402493,
          -0.176548533870343,
          1.3055258302601942,
          0.9435644124926705,
          1.2152200011977778,
          -0.396093420782475,
          0.6040476197425073,
          0.9243875649660872,
          0.5013547775379834,
          -1.8936316609190569,
          -0.35096622499959107,
          -0.47934901570126853,
          0.09016051464794964,
          -0.27787490930569664,
          -0.7833827206382101,
          0.5523111199039871,
          0.532728329104852,
          0.6169779405897791,
          0.5567931145116828,
          -0.6955388104399652,
          0.4273073972528974,
          -2.330707429016533,
          0.9319241307431878,
          -0.000903477627465045,
          0.22583592250218543,
          1.9986945417680373,
          -2.217474262653922,
          -0.322892758282706,
          0.80222396465946,
          0.1625750024472097,
          0.8307848324562137,
          0.32995972563777143,
          -0.14051239571456775,
          -0.07541398564574882,
          -1.5454461059974853,
          1.2636342058258927,
          1.7358923762653027,
          -1.91028953199047,
          0.9153896329162653,
          -1.8069507962130908,
          0.6755438610636723,
          0.5745032160584157,
          -2.2020412131398244,
          -2.0238783136353162,
          -1.1418324652977025,
          1.2299191201832682,
          0.37195496790359134,
          1.322371473564623,
          -0.404762201100609,
          1.361742673562923,
          1.5255162317232096,
          0.19235852507072293,
          1.2307697300531932,
          0.7570699531883389,
          1.021241715114674,
          -0.1700506804034645,
          1.5942955833817845,
          -0.1341821605438389,
          2.14068794794708,
          -0.7465210299327443,
          -0.10336265912828314,
          1.2987101724295211,
          -0.29134844026068984,
          0.7637147845224725,
          -0.3647917505400603,
          -0.1725699940198179,
          0.1558223615307793,
          1.0641464056872718,
          1.0280061488324348,
          -2.1184142347647117,
          1.1311661351729343,
          0.5068941551914462,
          -0.29144108106013744,
          0.53210595098391,
          -1.986470416427954,
          -1.7312013305428453,
          -1.3377462395976325,
          0.8522822975463819,
          0.25519724993550835,
          0.4449167283468547,
          1.3455189412362492,
          0.7834122436967568,
          -0.7668674572521249,
          -0.2782359967508334,
          -0.6912601765607571,
          0.3615544538095475,
          1.0558756812459336,
          0.18849112106989407,
          1.2547242440012683,
          1.0680408694096997,
          0.6601166541105591,
          -1.3872922476357994,
          0.42706042968650937,
          -2.0947351053022643,
          -1.9974923679914314,
          1.2630024087882776,
          -0.30735674778464483,
          1.2238979645551065,
          0.5862688415659634,
          2.526264496582466,
          0.4897712348873915,
          -1.4288965483459892,
          1.489388709447501,
          1.1244894228289568,
          0.935146190873348,
          -0.06070563754359375,
          0.7251322518197129,
          1.0460558358490004,
          1.749255052994271,
          0.04303046201165565,
          0.5847157913762512,
          0.38883862078540216,
          0.831413967582578,
          -0.052595259272475096,
          -0.8894784575660569,
          1.2148652506788564,
          0.3056670154514371,
          2.5685228662218256,
          -0.9637621823226699,
          0.40015631346838665,
          -0.0387559049479203,
          0.5569888013739062,
          0.5093256783730479,
          0.21271902770639328,
          -1.7451920446079756,
          0.7712437071631195,
          0.9995223884238781,
          0.37587727297262513,
          0.34668772718008295,
          -0.9763927837194006,
          -1.3609893038393328,
          0.927308921355918,
          0.7709513732708155,
          1.0590081616521059,
          -0.5493434882033035,
          0.34436609254473616,
          1.2190785500023353,
          -0.604370331874178,
          1.0691036640229927,
          1.170772477851582,
          0.5641388735436585,
          0.22682078365766414,
          0.28751228402854007,
          0.4902481772631646,
          1.4223883886029702,
          1.1056457001088495,
          -2.9641273663499845,
          -2.430022184027651,
          0.8856155369591732,
          -0.3888262023660299,
          -1.3383654985371092,
          -0.9343766030446001,
          1.2276585402766995,
          -1.4339436227613014,
          -0.283209913418737,
          -2.334046980826461,
          -0.00853029028847562,
          1.1494440285987921,
          1.5868399509471776,
          0.6788254217409323,
          -0.09702096122303296,
          0.6100987396321068,
          0.33109880920668483,
          0.5212429337698637,
          1.5949854817449272,
          -0.08175271788360342,
          1.0162080255681019,
          0.3848190149484611,
          0.8622243694981362,
          -0.22671580375218398,
          -0.44431005789093614,
          0.34284564557535735,
          -1.027848118091547,
          0.017122086121955215,
          -0.1741138238828655,
          0.0021836147840689824,
          -0.3528043606997021,
          -0.12808565898024415,
          0.8961488676472847,
          -0.5601054417142802,
          -0.8168873658868405,
          1.160589549850588,
          0.09762680932519603,
          0.6204636902849736,
          -0.9585218113036604,
          -0.97491663278487,
          -0.29814607216497624,
          0.6027417533876742,
          0.8885689255665771,
          0.15458971305221925,
          0.06656380020613029,
          1.018840294820493,
          -0.3959020396957202,
          0.3179257382792426,
          1.3300633013173349,
          -0.2474681448012219,
          0.3890875078401719,
          0.5239696863264697,
          0.6756473063953888,
          -0.7677857662788317,
          -0.9233462658037999,
          1.0956493133797254,
          0.36662678835441576,
          0.73293683789428,
          -0.20614013036237894,
          -0.496442599727448,
          1.6549244282118265,
          -0.7522452130426461,
          -1.543602295773421,
          0.2573214514799097,
          0.0937026849274633,
          1.1525256328492557
         ],
         "yaxis": "y"
        }
       ],
       "layout": {
        "autosize": true,
        "legend": {
         "title": {
          "text": "color"
         },
         "tracegroupgap": 0
        },
        "margin": {
         "t": 60
        },
        "template": {
         "data": {
          "bar": [
           {
            "error_x": {
             "color": "#2a3f5f"
            },
            "error_y": {
             "color": "#2a3f5f"
            },
            "marker": {
             "line": {
              "color": "#E5ECF6",
              "width": 0.5
             },
             "pattern": {
              "fillmode": "overlay",
              "size": 10,
              "solidity": 0.2
             }
            },
            "type": "bar"
           }
          ],
          "barpolar": [
           {
            "marker": {
             "line": {
              "color": "#E5ECF6",
              "width": 0.5
             },
             "pattern": {
              "fillmode": "overlay",
              "size": 10,
              "solidity": 0.2
             }
            },
            "type": "barpolar"
           }
          ],
          "carpet": [
           {
            "aaxis": {
             "endlinecolor": "#2a3f5f",
             "gridcolor": "white",
             "linecolor": "white",
             "minorgridcolor": "white",
             "startlinecolor": "#2a3f5f"
            },
            "baxis": {
             "endlinecolor": "#2a3f5f",
             "gridcolor": "white",
             "linecolor": "white",
             "minorgridcolor": "white",
             "startlinecolor": "#2a3f5f"
            },
            "type": "carpet"
           }
          ],
          "choropleth": [
           {
            "colorbar": {
             "outlinewidth": 0,
             "ticks": ""
            },
            "type": "choropleth"
           }
          ],
          "contour": [
           {
            "colorbar": {
             "outlinewidth": 0,
             "ticks": ""
            },
            "colorscale": [
             [
              0,
              "#0d0887"
             ],
             [
              0.1111111111111111,
              "#46039f"
             ],
             [
              0.2222222222222222,
              "#7201a8"
             ],
             [
              0.3333333333333333,
              "#9c179e"
             ],
             [
              0.4444444444444444,
              "#bd3786"
             ],
             [
              0.5555555555555556,
              "#d8576b"
             ],
             [
              0.6666666666666666,
              "#ed7953"
             ],
             [
              0.7777777777777778,
              "#fb9f3a"
             ],
             [
              0.8888888888888888,
              "#fdca26"
             ],
             [
              1,
              "#f0f921"
             ]
            ],
            "type": "contour"
           }
          ],
          "contourcarpet": [
           {
            "colorbar": {
             "outlinewidth": 0,
             "ticks": ""
            },
            "type": "contourcarpet"
           }
          ],
          "heatmap": [
           {
            "colorbar": {
             "outlinewidth": 0,
             "ticks": ""
            },
            "colorscale": [
             [
              0,
              "#0d0887"
             ],
             [
              0.1111111111111111,
              "#46039f"
             ],
             [
              0.2222222222222222,
              "#7201a8"
             ],
             [
              0.3333333333333333,
              "#9c179e"
             ],
             [
              0.4444444444444444,
              "#bd3786"
             ],
             [
              0.5555555555555556,
              "#d8576b"
             ],
             [
              0.6666666666666666,
              "#ed7953"
             ],
             [
              0.7777777777777778,
              "#fb9f3a"
             ],
             [
              0.8888888888888888,
              "#fdca26"
             ],
             [
              1,
              "#f0f921"
             ]
            ],
            "type": "heatmap"
           }
          ],
          "heatmapgl": [
           {
            "colorbar": {
             "outlinewidth": 0,
             "ticks": ""
            },
            "colorscale": [
             [
              0,
              "#0d0887"
             ],
             [
              0.1111111111111111,
              "#46039f"
             ],
             [
              0.2222222222222222,
              "#7201a8"
             ],
             [
              0.3333333333333333,
              "#9c179e"
             ],
             [
              0.4444444444444444,
              "#bd3786"
             ],
             [
              0.5555555555555556,
              "#d8576b"
             ],
             [
              0.6666666666666666,
              "#ed7953"
             ],
             [
              0.7777777777777778,
              "#fb9f3a"
             ],
             [
              0.8888888888888888,
              "#fdca26"
             ],
             [
              1,
              "#f0f921"
             ]
            ],
            "type": "heatmapgl"
           }
          ],
          "histogram": [
           {
            "marker": {
             "pattern": {
              "fillmode": "overlay",
              "size": 10,
              "solidity": 0.2
             }
            },
            "type": "histogram"
           }
          ],
          "histogram2d": [
           {
            "colorbar": {
             "outlinewidth": 0,
             "ticks": ""
            },
            "colorscale": [
             [
              0,
              "#0d0887"
             ],
             [
              0.1111111111111111,
              "#46039f"
             ],
             [
              0.2222222222222222,
              "#7201a8"
             ],
             [
              0.3333333333333333,
              "#9c179e"
             ],
             [
              0.4444444444444444,
              "#bd3786"
             ],
             [
              0.5555555555555556,
              "#d8576b"
             ],
             [
              0.6666666666666666,
              "#ed7953"
             ],
             [
              0.7777777777777778,
              "#fb9f3a"
             ],
             [
              0.8888888888888888,
              "#fdca26"
             ],
             [
              1,
              "#f0f921"
             ]
            ],
            "type": "histogram2d"
           }
          ],
          "histogram2dcontour": [
           {
            "colorbar": {
             "outlinewidth": 0,
             "ticks": ""
            },
            "colorscale": [
             [
              0,
              "#0d0887"
             ],
             [
              0.1111111111111111,
              "#46039f"
             ],
             [
              0.2222222222222222,
              "#7201a8"
             ],
             [
              0.3333333333333333,
              "#9c179e"
             ],
             [
              0.4444444444444444,
              "#bd3786"
             ],
             [
              0.5555555555555556,
              "#d8576b"
             ],
             [
              0.6666666666666666,
              "#ed7953"
             ],
             [
              0.7777777777777778,
              "#fb9f3a"
             ],
             [
              0.8888888888888888,
              "#fdca26"
             ],
             [
              1,
              "#f0f921"
             ]
            ],
            "type": "histogram2dcontour"
           }
          ],
          "mesh3d": [
           {
            "colorbar": {
             "outlinewidth": 0,
             "ticks": ""
            },
            "type": "mesh3d"
           }
          ],
          "parcoords": [
           {
            "line": {
             "colorbar": {
              "outlinewidth": 0,
              "ticks": ""
             }
            },
            "type": "parcoords"
           }
          ],
          "pie": [
           {
            "automargin": true,
            "type": "pie"
           }
          ],
          "scatter": [
           {
            "fillpattern": {
             "fillmode": "overlay",
             "size": 10,
             "solidity": 0.2
            },
            "type": "scatter"
           }
          ],
          "scatter3d": [
           {
            "line": {
             "colorbar": {
              "outlinewidth": 0,
              "ticks": ""
             }
            },
            "marker": {
             "colorbar": {
              "outlinewidth": 0,
              "ticks": ""
             }
            },
            "type": "scatter3d"
           }
          ],
          "scattercarpet": [
           {
            "marker": {
             "colorbar": {
              "outlinewidth": 0,
              "ticks": ""
             }
            },
            "type": "scattercarpet"
           }
          ],
          "scattergeo": [
           {
            "marker": {
             "colorbar": {
              "outlinewidth": 0,
              "ticks": ""
             }
            },
            "type": "scattergeo"
           }
          ],
          "scattergl": [
           {
            "marker": {
             "colorbar": {
              "outlinewidth": 0,
              "ticks": ""
             }
            },
            "type": "scattergl"
           }
          ],
          "scattermapbox": [
           {
            "marker": {
             "colorbar": {
              "outlinewidth": 0,
              "ticks": ""
             }
            },
            "type": "scattermapbox"
           }
          ],
          "scatterpolar": [
           {
            "marker": {
             "colorbar": {
              "outlinewidth": 0,
              "ticks": ""
             }
            },
            "type": "scatterpolar"
           }
          ],
          "scatterpolargl": [
           {
            "marker": {
             "colorbar": {
              "outlinewidth": 0,
              "ticks": ""
             }
            },
            "type": "scatterpolargl"
           }
          ],
          "scatterternary": [
           {
            "marker": {
             "colorbar": {
              "outlinewidth": 0,
              "ticks": ""
             }
            },
            "type": "scatterternary"
           }
          ],
          "surface": [
           {
            "colorbar": {
             "outlinewidth": 0,
             "ticks": ""
            },
            "colorscale": [
             [
              0,
              "#0d0887"
             ],
             [
              0.1111111111111111,
              "#46039f"
             ],
             [
              0.2222222222222222,
              "#7201a8"
             ],
             [
              0.3333333333333333,
              "#9c179e"
             ],
             [
              0.4444444444444444,
              "#bd3786"
             ],
             [
              0.5555555555555556,
              "#d8576b"
             ],
             [
              0.6666666666666666,
              "#ed7953"
             ],
             [
              0.7777777777777778,
              "#fb9f3a"
             ],
             [
              0.8888888888888888,
              "#fdca26"
             ],
             [
              1,
              "#f0f921"
             ]
            ],
            "type": "surface"
           }
          ],
          "table": [
           {
            "cells": {
             "fill": {
              "color": "#EBF0F8"
             },
             "line": {
              "color": "white"
             }
            },
            "header": {
             "fill": {
              "color": "#C8D4E3"
             },
             "line": {
              "color": "white"
             }
            },
            "type": "table"
           }
          ]
         },
         "layout": {
          "annotationdefaults": {
           "arrowcolor": "#2a3f5f",
           "arrowhead": 0,
           "arrowwidth": 1
          },
          "autotypenumbers": "strict",
          "coloraxis": {
           "colorbar": {
            "outlinewidth": 0,
            "ticks": ""
           }
          },
          "colorscale": {
           "diverging": [
            [
             0,
             "#8e0152"
            ],
            [
             0.1,
             "#c51b7d"
            ],
            [
             0.2,
             "#de77ae"
            ],
            [
             0.3,
             "#f1b6da"
            ],
            [
             0.4,
             "#fde0ef"
            ],
            [
             0.5,
             "#f7f7f7"
            ],
            [
             0.6,
             "#e6f5d0"
            ],
            [
             0.7,
             "#b8e186"
            ],
            [
             0.8,
             "#7fbc41"
            ],
            [
             0.9,
             "#4d9221"
            ],
            [
             1,
             "#276419"
            ]
           ],
           "sequential": [
            [
             0,
             "#0d0887"
            ],
            [
             0.1111111111111111,
             "#46039f"
            ],
            [
             0.2222222222222222,
             "#7201a8"
            ],
            [
             0.3333333333333333,
             "#9c179e"
            ],
            [
             0.4444444444444444,
             "#bd3786"
            ],
            [
             0.5555555555555556,
             "#d8576b"
            ],
            [
             0.6666666666666666,
             "#ed7953"
            ],
            [
             0.7777777777777778,
             "#fb9f3a"
            ],
            [
             0.8888888888888888,
             "#fdca26"
            ],
            [
             1,
             "#f0f921"
            ]
           ],
           "sequentialminus": [
            [
             0,
             "#0d0887"
            ],
            [
             0.1111111111111111,
             "#46039f"
            ],
            [
             0.2222222222222222,
             "#7201a8"
            ],
            [
             0.3333333333333333,
             "#9c179e"
            ],
            [
             0.4444444444444444,
             "#bd3786"
            ],
            [
             0.5555555555555556,
             "#d8576b"
            ],
            [
             0.6666666666666666,
             "#ed7953"
            ],
            [
             0.7777777777777778,
             "#fb9f3a"
            ],
            [
             0.8888888888888888,
             "#fdca26"
            ],
            [
             1,
             "#f0f921"
            ]
           ]
          },
          "colorway": [
           "#636efa",
           "#EF553B",
           "#00cc96",
           "#ab63fa",
           "#FFA15A",
           "#19d3f3",
           "#FF6692",
           "#B6E880",
           "#FF97FF",
           "#FECB52"
          ],
          "font": {
           "color": "#2a3f5f"
          },
          "geo": {
           "bgcolor": "white",
           "lakecolor": "white",
           "landcolor": "#E5ECF6",
           "showlakes": true,
           "showland": true,
           "subunitcolor": "white"
          },
          "hoverlabel": {
           "align": "left"
          },
          "hovermode": "closest",
          "mapbox": {
           "style": "light"
          },
          "paper_bgcolor": "white",
          "plot_bgcolor": "#E5ECF6",
          "polar": {
           "angularaxis": {
            "gridcolor": "white",
            "linecolor": "white",
            "ticks": ""
           },
           "bgcolor": "#E5ECF6",
           "radialaxis": {
            "gridcolor": "white",
            "linecolor": "white",
            "ticks": ""
           }
          },
          "scene": {
           "xaxis": {
            "backgroundcolor": "#E5ECF6",
            "gridcolor": "white",
            "gridwidth": 2,
            "linecolor": "white",
            "showbackground": true,
            "ticks": "",
            "zerolinecolor": "white"
           },
           "yaxis": {
            "backgroundcolor": "#E5ECF6",
            "gridcolor": "white",
            "gridwidth": 2,
            "linecolor": "white",
            "showbackground": true,
            "ticks": "",
            "zerolinecolor": "white"
           },
           "zaxis": {
            "backgroundcolor": "#E5ECF6",
            "gridcolor": "white",
            "gridwidth": 2,
            "linecolor": "white",
            "showbackground": true,
            "ticks": "",
            "zerolinecolor": "white"
           }
          },
          "shapedefaults": {
           "line": {
            "color": "#2a3f5f"
           }
          },
          "ternary": {
           "aaxis": {
            "gridcolor": "white",
            "linecolor": "white",
            "ticks": ""
           },
           "baxis": {
            "gridcolor": "white",
            "linecolor": "white",
            "ticks": ""
           },
           "bgcolor": "#E5ECF6",
           "caxis": {
            "gridcolor": "white",
            "linecolor": "white",
            "ticks": ""
           }
          },
          "title": {
           "x": 0.05
          },
          "xaxis": {
           "automargin": true,
           "gridcolor": "white",
           "linecolor": "white",
           "ticks": "",
           "title": {
            "standoff": 15
           },
           "zerolinecolor": "white",
           "zerolinewidth": 2
          },
          "yaxis": {
           "automargin": true,
           "gridcolor": "white",
           "linecolor": "white",
           "ticks": "",
           "title": {
            "standoff": 15
           },
           "zerolinecolor": "white",
           "zerolinewidth": 2
          }
         }
        },
        "xaxis": {
         "anchor": "y",
         "autorange": true,
         "domain": [
          0,
          1
         ],
         "range": [
          -3.319927912188117,
          3.8106438257049575
         ],
         "title": {
          "text": "x"
         },
         "type": "linear"
        },
        "yaxis": {
         "anchor": "x",
         "autorange": true,
         "domain": [
          0,
          1
         ],
         "range": [
          -3.910438269253386,
          5.145302063268979
         ],
         "title": {
          "text": "y"
         },
         "type": "linear"
        }
       }
      },
      "image/png": "[encoded data removed]",
      "text/html": [
       "<div>                            <div id=\"fb62b535-575a-4226-b3b6-3fa287d32a70\" class=\"plotly-graph-div\" style=\"height:525px; width:100%;\"></div>            <script type=\"text/javascript\">                require([\"plotly\"], function(Plotly) {                    window.PLOTLYENV=window.PLOTLYENV || {};                                    if (document.getElementById(\"fb62b535-575a-4226-b3b6-3fa287d32a70\")) {                    Plotly.newPlot(                        \"fb62b535-575a-4226-b3b6-3fa287d32a70\",                        [{\"hovertemplate\":\"color=1\\u003cbr\\u003ex=%{x}\\u003cbr\\u003ey=%{y}\\u003cextra\\u003e\\u003c\\u002fextra\\u003e\",\"legendgroup\":\"1\",\"marker\":{\"color\":\"#3366CC\",\"symbol\":\"circle\",\"line\":{\"color\":\"black\",\"width\":1},\"size\":9},\"mode\":\"markers\",\"name\":\"1\",\"orientation\":\"v\",\"showlegend\":true,\"x\":[-0.35507509993920694,-1.7497472959397962,0.9195747648746591,1.4684596120333924,-1.9605951826885517,-2.9206842390041676,-0.9291916361277615,-2.217308380405965,-1.5238622526632801,2.2292025006187566,0.5018832787676518,-0.12258764048444012,0.3756358842458908,-1.684736882699087,-0.3864287133077889,-1.1096226549125294,-0.3372616913478235,-0.3226240848716403,-1.1525137419090805,0.22241797923909368,1.3311247748402357,0.18155618258423173,-1.8445225446002227,-0.3380191885562494,0.983323210881664,-1.957359362213124,-1.149313419135984,-0.3788195014769411,0.19527609090491926,-0.060777479669555046,0.4847342782880686,-0.42645673281704016,2.762353223210459,-0.46651107749312676,-0.30254663164327883,-0.7724728272298115,0.5436442179754775,-0.5398165057753146,0.6215970984575616,-0.852559099977211,-1.1155076039568221,-0.5745377661711366,-1.2203058308920336,-0.0805522682812971,0.6020853429916015,0.1805995097299394,3.4114001525210083,-0.3025783900594786,-0.3096097523205035,-1.3096737738247466,0.08627224048655163,-0.6713269026449711,0.16480165186868725,-1.4602221653435798,-0.6412446633709661,0.15699547814574144,-0.8096432955315302,-0.7250935423185593,-0.24268192543166053,-0.13900408863557484,-0.2352716409172026,-1.2665752927371041,1.0034646493655852,-0.30818850698323125,-1.0779990292646768,-1.9447761779686914,-0.9218993888378756,-0.3588061336429859,-0.7458947551391434,-0.8230107449151285,2.7583166298367607,-0.7934375676244182,-0.10602191730550463,0.567558923562642,-0.5773391671473183,-1.7115898661931916,-1.4441606883870708,-1.2713308840138589,0.5125371358241875,-0.31115372966418736,-0.5437844981707812,0.6722269986067739,0.2536681175808,0.6086967212351485,-1.2281360345729528,-1.341263423597586,0.31239426081151783,-0.2599426569881645,-0.09467399880891564,-0.35196280015071796,-1.6480465203274188,-0.719999073399258,-1.4743682302362147,-0.24346982319772623,-0.1181216578284941,-2.0432878834040396,-0.32122924233515776,0.7177490088862494,-1.2954302303842085,1.5467550430721906,0.2159111663680015,2.053073772442564,1.4691468640921586,0.54139774345009,0.2999610580714818,0.01956163728466669,-1.4035859224580263,-0.26788538377440013,0.26502577603184413,0.9003105190919656,0.1142514310454227,1.0766147968214848,-0.9781986219775567,-0.10499836803870058,1.3011646434570077,-0.04235760611699458,0.4885788926729829,-1.3569947953246497,-0.4548018380591413,-0.15605636773319648,-1.0887887945218802,0.06766532853333315,-1.333888948583417,-2.129571138197805,0.2867480954374872,-0.029168921395461903,-1.7514384845020132,0.33034040055375796,0.8419738224301283,1.8334219741071345,-0.1664876441026698,-1.0688421811903623,-1.1323137653035815,2.6684716404149933,-1.6462388183531034,0.5647016834247442,2.2734372464918278,-1.4980960474604028,-1.5539985421587388,-0.34219299638900197,-0.49022955119801426,-1.0439597093124455,-1.8012834803644224,-0.855753206312053,0.1845975682488241,0.06929908613004664,0.1973577239313758,-1.1376278101176804,-0.2571895082678313,-1.0122878629942238,0.5253928659052007,-0.900914441536293,0.6867655118740356,-0.41186813341097644,-0.636193356727018,-0.15124215577068523,-2.2760504713704854,-0.8700135008683669,0.19488148691981144,-1.6965854192942407,-0.23193170760416085,-0.24140245461436297,-0.4720839919974215,-1.2939731276446536,-0.7839811442812681,0.31240798469670317,2.54740530050418,-1.8571195567617211,-0.17183224596994093,0.2341841147120804,0.37248095296621264,0.8394991190827571,-0.43324111288635153,-0.8067546875219153,-1.023779761997658,1.899420422230884,0.06810680102813925,-0.7869862459211938,2.4803803403360973,0.4286655735450987,-0.5365009119667072,-1.8587502632237505,2.853007082692786,-1.2520092356270032,0.41642836049612963,-0.8184386334696143,-1.4164767867850818,-0.3082682880168397,1.9583261454433887,-0.587538389298452,0.40936327589021865,-0.3413261929163761,0.1892427188348363,-1.9741017805129033,-1.0627696020284307,-0.16828446159379823,-0.8847947017104517,0.37049074070150984,0.3657724906037949,-0.48672453251655295,-0.1053954481158663,-1.5051833327040816,-0.2247074252136777,-1.6528297159837482,0.5321247706989846,-0.34910354106154523,-1.7813564983216683,-0.6374125810664136,-0.7839786688751944,0.7753251351993612,-1.1996876642806382,-0.7694522264087147,-1.5122268594078259,-0.5614382668251363,-0.6717652837229174,2.362642644193184,-0.19422928319697763,-0.18184180965848204,0.6188041102867929,-0.9767925740912063,-1.5442358327603312,-0.0282944382876818,-1.1459663201104344,-0.3163645599725744,0.41996339016263035,-0.8314836040325506,-1.7801282053457959,-0.5484836944546405,0.7410207094638959,-0.6016977234121116,-0.07920798131523431,-1.5376266411343213,-1.7341417574295728,0.8500546944391907,0.5024110125604145,-0.43550585757593324,0.20555098772175268,-1.736404872378185,0.3087980928565482,-1.797157581516704,-1.1772032121837375,-0.48803558556902976,-1.0484402479187402,0.07723712424478281,-1.1453162026591803,0.9960526332700852,0.6479680734730162,-1.1702589794336622,-1.2619731990992888,0.633581455791972,-0.5197636848114537,-0.5679060247490244,-0.8512630630085405,-0.7352748279479516,0.7995151080810803,-0.021875351288627866,-1.3351735984232542,0.21655019260468422,-1.1300407987985523,-1.0215357415264605,-0.5649322008672385,-1.3598066778596953,-0.7808321776742094,-0.37927772829001644,0.3347750426796456,-1.785537443866166,-0.29421085142866027,0.2041551261636445],\"xaxis\":\"x\",\"y\":[-0.5073167823297973,-0.5140544067210103,2.358007344927188,0.7824867657723558,-0.971180331907009,-0.3318417379589709,-1.8114321264978204,-1.5711508993461556,-0.7107100080027599,-0.3723447740083365,0.4117112277881862,-0.8579629174459936,0.5803690442515581,-2.153749294952017,-0.060567967257378716,-1.980879831544918,-1.2000447373655536,-2.13618047203477,0.8717358018749309,-0.3158180535944882,0.9777635660189627,0.5831060749326447,-2.3507969202183694,2.194582788536304,-0.3596672836012168,-1.7426053492479427,-1.2993878342692433,-1.6043795520402198,-1.4936812887761637,1.0357834274939006,0.9527944447876889,-2.5645765844251356,-0.5277514635501841,-2.301857346121453,-2.1682750241324977,-1.4318608584142585,-0.13108925680432476,0.08970770648911776,0.47563251062780154,0.08102592932118237,-1.3737601766448366,-0.28744936668604854,-1.717272927122723,-1.2977286881635284,0.6123788731988762,0.04909893810600952,0.17956013203527715,-0.1625203732642824,-0.5999885722803859,-0.5515484677532988,-0.36560436143413405,0.03257238317271864,-1.7704285384880756,-0.305744739531484,-3.1320590057624216,-1.208715119662144,-1.8773796670581109,0.22384946647314674,-0.18835374440764796,-1.0993343122206805,-0.2443567127090145,-0.09515114441662793,-1.0204351379347254,-0.7185758224426952,-0.6936086948031646,-1.4901885403368165,1.845503898817861,0.5887013056464199,0.2916578738846849,-1.2052053893970374,-2.5534841319138284,-0.2750379489054434,1.2071052970471112,1.36074748609618,-0.3090977475822217,-1.9494761144590114,-2.4586416556453026,-1.0002119891056251,0.1610451245963971,-0.846622463670656,-1.1652726074890325,0.6441273604152883,1.2970094820828428,-1.5017755332484524,1.1509652402839257,-1.4408768723914047,0.7662082292653285,-0.752204351405542,-1.7634549000846496,-1.2049089916260207,-1.6195902013648835,0.26784170657911005,-0.24598517866678266,0.27267060397516624,1.1132539979004668,-0.6905563055198103,-0.9144221594155338,1.3439009439438927,-0.597457836786402,0.4085963745175853,-0.8930902586170014,0.6919231759712554,-0.02995772063781889,-0.31619986948210976,0.1834110479348143,-0.514926041813372,-1.9824578418747925,-0.9745217653597849,0.4707836228151526,1.222284598513241,0.868963783656152,0.9934949462836747,0.5805614028605506,-1.9121745537823127,0.45685755112293336,0.7214652280290301,-2.057246424244405,-1.2482419457288452,1.8270579410969425,0.8779718199699904,0.42141717747189306,0.20362502962443488,-0.6620459750319598,-2.1339365185431274,0.48014186015067667,0.37514505904319084,-0.6742527306315156,0.8174240644657593,-0.1431239301876771,-1.499850526872588,-1.1778970638007937,-0.09986481046271728,-2.1895047157096506,0.042363615429532694,-2.156263984988519,1.5774931312842293,-1.343113425542405,0.5944397694560077,0.013185433959562187,-2.367882265562746,-0.4903946976529242,-0.4809410338005914,2.2178455240594133,-2.0058038325649483,-1.9438904073002758,0.3224444758403251,-1.414227289966548,-1.3246744911696815,-1.640688227947185,-0.3229008136180082,0.9926506843776743,-0.06192932646616316,-0.6669194652773427,-0.16703640315458707,-1.6644161308145737,-0.9519298559856051,-0.4202281780375987,0.3268417931840342,1.1301922888484894,-0.23472111554007813,-0.2294777955913597,0.5115619664138488,-1.1607961792565433,-0.4900871435792882,-0.28386620209518,-0.3810292529593322,-0.7336851423482896,-0.32980051745690064,-0.24459359773844352,0.0018412634099369669,2.437511228670227,1.4337149538200744,0.3027082718146542,-1.7273769897135858,-0.6579443319208944,-1.204453712859942,1.2280369967762619,-0.47560068257162885,-0.42265911392723066,0.4699977017211513,0.3862103510728329,-1.3114632354118712,0.6415587067702153,-0.32165580974381297,-0.9850136266425039,-0.2427868751503514,-0.8023719743642057,-1.5479132225813759,-0.23199224191121626,1.1202841280617648,-0.5431565051754268,0.40547932351612925,-0.8575662346946775,-0.9724754031580894,-1.2249906779174211,-2.172212947916968,-0.10181930816555305,0.2003025686579254,-0.2058294328112214,0.9005655431656648,0.7704432023797437,-1.1401592405899572,-2.0103660883080243,-0.12504870692059913,-1.0038102418882295,-1.166812980210584,0.47627675077955495,-1.424592118928035,-1.1007003957058628,-0.8709218853728071,1.3426843640401949,-0.22374243196148563,-0.5261681708778231,-1.648158482459975,0.11615600439778404,0.0989211625740536,-0.2705301202665259,-1.6515402271632487,0.06469468428489178,-1.8211158259014406,0.4011494063993762,0.647091285943447,-0.985173405249201,-0.46287962955883755,1.7041880016600075,1.5131036222862946,-1.3503153731060253,-0.5057342606577482,-0.25150334017515447,-1.9787231964127874,-0.8267862266982563,-1.1946723430061523,-2.016762001973733,-0.693856936900207,-0.17994725434193926,-0.2806517294135924,-0.7065189799147208,-3.2261124373070937,-0.45570580489739154,-1.4917832708356455,-0.2948349571273401,-0.19448190863335038,-0.07486100114086372,0.778658183965618,-2.290560656642038,0.9404550515989896,-1.0105809300117938,-0.2827706058780834,0.8132832523705491,-0.8533055972837008,0.04354740183161767,0.09225011790304748,-0.6473591558340436,0.13988341672446877,-1.1066130454926977,-1.2718433122221764,-1.488102940812165,-0.15909212255897714,-0.769829564428687,-1.5390719467876661,0.7435542951338965,-0.3122525039509907,-0.8314599958253964,1.0296158692735358,-1.3495290712443577,-2.962673410213813,-1.7069224392513953,-0.7681363027391566],\"yaxis\":\"y\",\"type\":\"scatter\"},{\"hovertemplate\":\"color=0\\u003cbr\\u003ex=%{x}\\u003cbr\\u003ey=%{y}\\u003cextra\\u003e\\u003c\\u002fextra\\u003e\",\"legendgroup\":\"0\",\"marker\":{\"color\":\"#DC3912\",\"symbol\":\"circle\",\"line\":{\"color\":\"black\",\"width\":1},\"size\":9},\"mode\":\"markers\",\"name\":\"0\",\"orientation\":\"v\",\"showlegend\":true,\"x\":[0.7682461135498517,0.6157961051643005,-0.4432134803635957,2.237905343392459,-0.11467559273586724,-1.4255490954421748,2.5077899620381126,-0.36982292271773926,0.022161782367381623,-0.041986168243745285,-1.761132441097166,-0.5208459956340342,0.42573565435035154,0.5576935172936472,-0.9263775110658906,-0.5763825063009967,-0.09582218053313594,-0.7308146904300522,-0.6992359527678427,-0.3713371507611174,-0.9118010602418316,-0.9170798973300365,-0.14234831755202174,0.8709572866706363,0.36009133725027787,-0.7420629832713248,0.6008412781110025,0.33041626557197584,-0.7355888108103522,1.134487589637365,0.9726536368228141,-0.5235754114413688,1.2783632786561787,0.9379543893260317,1.1364857741396537,-0.4103187069613763,0.2792690731965007,0.15538935605407955,-0.024823620947702643,-1.0671514331613778,-0.41741084966033115,-0.7596138429693488,0.9181635969894758,2.7559534710310563,0.7507663989496156,0.937731700556141,0.08294616697906171,0.5108806951926762,1.1741327047020267,0.13694911456391223,0.42912507331916366,0.07296546076479413,0.5838539184215169,0.9608906147827814,0.2561013861853704,0.5404313208542909,-0.5709644208648144,1.4965837390455854,-1.2308331103392363,-0.625512812403263,1.0622638666527098,0.9898045955590538,0.9323464949794226,-0.48830394312848063,-1.3014424416195876,0.520172218038149,1.1853501810037446,0.06115499792057997,-1.5780211490111575,-0.24450418058600878,1.4189459580242485,0.6717943582557612,1.158731517738388,1.427370234855012,0.6332432040373901,-0.28513426425666566,0.7023091524139933,0.31776257226419413,-0.8036694045163372,0.6584329055800755,0.7096838716534508,0.9804502477562836,-0.14553490931555546,0.3662319581130011,0.4820891839583948,0.7287638002969378,-0.46215112572658057,0.18024605927199838,-0.9718206270804592,0.5481166567822996,0.9549129129219154,-0.5761908758707889,-1.4985041836224355,1.06399203508998,0.22815831484438673,-0.6172923439059282,0.5237833593599303,0.021701242148371696,-0.36579801183340727,-0.9473657577908459,0.43302040691206567,0.1296774599978587,0.43241137687440245,-1.0301309862370498,0.576041696202842,0.5019690030533094,0.6397243836408593,-0.13910703307352998,-0.174663715639134,0.2633208007839481,-0.7071970890303976,2.6868835713300703,2.0093374819244603,1.0321318013023275,0.2802768769482446,0.1259304850225298,-0.23919083030628813,0.4004187991359854,2.0671027461346965,0.8348055771243216,-0.7482850416683665,-0.08547925836074924,-0.01516962401871348,0.7014127963089714,0.3157117093361021,-0.10919248387063203,-0.07849538125875972,0.18866921439230103,-0.1723216015083727,0.46652979387864674,-0.2386021619770138,0.8660453655488174,1.009916613953885,0.22489113463684868,-1.5387953430588546,-0.24219974944717962,1.6589497001199984,-0.5427331771246001,0.028443635921987172,0.8310439752063515,0.571313932791062,-2.5984162635985673,0.8900633696838545,0.22284104034033195,0.1853285153820745,0.9448260580105228,-0.6211924232768944,0.8652194465732573,0.6540050379923203,-0.28630687656412807,-0.22638781100039648,-1.0004509494597424,-0.4782355042002308,-0.14458150938438288,0.5675014745562306,-0.7534690143849693,-0.10803166729439109,1.3253008168991,0.7470550163056929,0.2617537100274466,-1.602379029932377,-1.385235303735926,0.6290070692041967,-0.4744055816973983,0.25229232833288406,0.7062798081434262,0.6670916331619795,0.31117545301459754,-0.7589184286052851,1.1126972719309698,0.09070003130869672,1.15671706893823,0.31325253190994806,-0.5505622394847952,-0.40098138147101536,-0.3219741339546945,-1.0078394777898048,-0.98707235100859,-1.3699177979289499,0.22972809791259446,0.5801623452973982,0.7899544530802197,-0.5555326926237613,-0.2633695998856445,-0.6663564033898188,-0.6676904176511214,0.90275145742936,-1.3310005242155198,0.4795909061168676,-0.649616496992052,0.6741073598594195,0.8054506219259222,0.4766707138661038,0.4136401405557675,-0.6604327712361859,0.712855336796429,-0.48376222955903586,0.5642103064866519,-1.1065599662156747,-1.1014447275756354,0.30799635848373347,-0.8372818380528647,1.159564814934794,-0.7965313039841306,0.43540701775873464,-0.0072797989814284755,2.3138256979915868,-0.5663202610093037,0.04189001297456185,2.6380232996540696,-0.389026103645737,0.5304315160854889,-0.3212772848402617,0.2029628885883713,1.7544150450791416,0.07747008552359133,0.850450867956093,-0.7741173061667765,1.1574172066943624,0.5717547525276526,0.9294398143925933,0.5774920755788729,-0.8131653363363411,-0.12847929905134267,-0.7723632420367792,0.9833772641070352,0.15617523088247062,0.005749868106836058,-1.8930676992481352,1.220090930757313,1.0502827994200183,0.7693735132416347,-0.24877821585846344,1.4381016416116095,0.43095793303329905,0.17751279999395322,-0.058307604822410826,-0.1851166629050788,0.2958971938424205,-0.43256802749398926,0.06756753373416366,0.3245650366455011,0.4755626226984167,-1.0296715981101914,-0.6690644829703354,-0.5507920215935981,0.385286329071418,0.06365376522730071,-0.5203904411733565,0.6367929614222533,1.2055199053624408,0.129701330894759,0.07225517810698953,0.21640586406034518,-0.6559363253090634,-0.7195410085923263,0.2701125844715789,-0.0478676369824716,0.354884133846833,0.19437706461258747,1.344503110026066,0.40705936596543374,0.8445480281988442,-0.237331022300394,2.0492591709338064,0.3235751009785869,0.5360612308665581,-0.7794877912332507,0.14623306798362928,-0.5330418448861423,-0.8491957467940153,-0.14847786889277365,-0.19124655988170308,0.9313065716238977,0.3236114198342525,-0.09310615780126516,0.7551688988587246,-0.028839670313369183,0.25644256226916723,1.0920151161809113,1.398764775228126,1.2651755568580723,-0.05136681947692236,0.6158273956416155,-0.7754257260656497,-0.9400915091966987,0.6246567790262418,1.030676142868029,0.29176564708865294,-1.6380712969773765,-0.23425978004926967,1.3183906365110436,1.0762492106383723,-0.09762031645660299,0.08770395706892804,0.21728595235551107,0.9085862461584391,-1.0985548765951387,0.14728100670547933,-0.6199824363885257,-0.7745709213441463,-0.5510173827239545,-0.7100404320526305,0.044105061226602425,0.8432887616716037,0.862668572064199,-0.036789612532963735,-0.5831525966195004,0.07250144671961532,-2.2037160600565016,1.2195407700616856,0.3757592503896601,0.8259844506849977,1.0069436953778035,-1.335193502135876,-0.14710695981560057,0.5473905288175148,-1.197539331019812,-0.8747680961181958,1.2070741872020183,0.5919240720176243,0.8796434111551884,0.3431074708556939,-0.18901956878044596,1.1314937827375924,-0.8027720518147292,-0.7647732243546185,-0.0016300373952853112,0.5158229797999154,0.5584275403151074,-0.3293714469088255,0.8731499118440795,-2.1278524359350097,0.7722079489608414,-0.24386957782690225,0.2614730623505592,0.3205230210710691,0.43257780120233197,-0.11115873157205426,-0.3740778692499741,0.11936173483246672,-0.05674909833984822,0.05959200679290212,0.9181497761616455,1.5575965699001575,2.417267652648179,1.3118777183661399,-0.27487198664251605,0.9457276276036811,-0.227931003244005,0.6221817281383298,0.5397940019840817,-0.16451898664138473,-0.7981915175124729,-2.5622310612134473,0.13597874231850948,0.7336365145975834,-0.7086565657973083,0.8963166699895992,1.1992023929904971,-0.6523807238345551,1.2302739440623736,-0.3518033049234321,1.322976164705532,0.1571217300026936,1.2217426310189998,0.31895735514054335,0.339099554028371,0.513779858247648,1.0009336059005838,0.7870759947613984,-0.7293382398288467,0.8707225407954661,-1.4660673326494504,0.5389006987049042,0.8969373207974799,-1.3952084016993322,1.3810664002856605,0.2696437437302514,-0.6867360346914274,0.23368585447959445,-0.7233803098045131,0.4856342380063615,0.517315788884076,-0.08753469461968531,2.487520197526544,0.5907146384381032,0.7464535489781368,-0.24683749022019785,1.8058984946161352,1.8670216653372467,0.6610127782676185,-0.3923154605361151,2.028580286371232,-0.01580094280642793,0.7527748171295955,0.19424103393238723,-0.39436337919525005,-0.13133391912549439,0.6083898161263779,-0.005520825246668716,-0.1129472601521244,-0.9717483709997139,0.6459376434051706,0.18123448470525597,-0.24737187522972587,-1.7080800760851955,1.3192603183576839,0.43861564771943895,0.5986549686821651,-0.30270031955892246,-0.3179503353044908,-0.27498836084123257,0.3889117889335317,0.5518288298220776,0.1840916861016844,-0.8123903736193098,0.20487533653582757,0.004696512612413831,0.286491495841119,-0.33970728676718737,-0.3088327143854159,-0.012698266468576469,2.3769142157865555,-0.10974778097072323,-0.7223040172763506,0.5827544011883757,0.7594410327565166,0.5358003988067712,0.08723238567947056,0.212850404437919,0.5215774135431059,0.3173383512986909,0.051882147132467485,-1.0155911861225662,-1.6350411594038652,0.25655722643958806,0.7304490803546447,-1.0244092087052594,-0.9002657755014443,0.4788280970528475,-0.032238656457045115,0.30598748965468703,0.21533112581039227,1.1659110192919022,-0.07576110658147005,1.3401268726183815,1.6517075687004372,-2.667263558180727,-0.364642686686054,-0.5100702856578545,0.9143284130634709,-1.09819091592482,-0.7885448845495938,0.41707214381645735,0.4506390060331198,2.2581075008550946,-0.7766249169708288,0.6446129125840255,-0.0892231154456019,2.447949586894952,-0.18880534561354753,1.1319219660323916,0.43956134113755757,-1.0890639135425013,-0.39361793315265736,-0.4398552498048232,0.1503803436930587,-0.24911029734515006,0.8637435839667434,0.18289968111600122,0.643015198275565,0.03427225508137072,-0.3707929606642553,0.6765782107213305,0.05573631609896495,-0.4842832565458662,-2.053737258500749,1.0642278257526618,0.46866313280006267,-0.35552262214057506,1.2169845999857967,-0.7836459478265251,0.9234870052012611,0.862548262167931,1.0571792793316954,0.4262782230472385,-1.145561774703189,-0.4363393067595626,1.6006757325124217,0.45058548428715467,0.3376292895197163,-0.7436639300956834,0.5491529313689703,0.8662942550409628,0.10185029545768211,0.12091073533603179,0.519899506780839,-0.46801544645760457,0.7418492643324534],\"xaxis\":\"x\",\"y\":[1.1023889423918212,0.9189287265009611,-0.4616786403491546,-1.4258755446447422,-1.0906857260213525,-0.8388519610830267,0.029506784357264847,0.5627132519505095,-1.8983442214102244,1.2527026050316532,-1.9515844333538062,-1.1786257393301351,-1.080847235375802,0.6871051225061159,-0.1025534741859949,-0.5505328205070104,1.4540764035010656,-1.66957841393653,-0.1491094532870209,-1.357195863393078,-0.6916581441918166,-1.2893655855478758,0.1382468804789946,1.5554037505780232,1.4759376547767753,1.3406983980094715,1.1948822338322918,0.5333493422623369,-0.3336190366299335,1.1661954893047695,1.4053662478511615,0.423802714268511,0.5984083511926203,2.292200618287583,0.235771939517711,1.5167963051203648,0.11524224043079043,-1.3105581505747468,1.1972855167628873,0.047912025445819385,0.5565656735345672,-0.35575429116284296,1.2290071280321029,1.5802051836123623,-1.0337138857949955,0.20082914063062293,0.9605184610775394,0.6820907002311434,2.0601858728619864,0.38188327120206433,1.4443300863362027,0.9621215801942382,-1.0857057631424771,0.18847765866448254,0.7513364502318178,1.073057842724496,-0.36441677722028915,-1.0795305314011094,1.2736259924744429,-0.9718093618519773,0.6446233009641259,1.5528233588084002,0.7011653866593436,0.12021438967394016,0.6208440769402117,0.9577291748343826,0.26638776423172533,1.6092595073083522,0.28107945353677344,-0.17567169614510414,0.7113167078468893,1.0126054759405556,-0.1558415136616516,0.09898024250549466,0.9119677197223692,0.6507194061357174,0.3835998600751195,0.7563765715097495,-2.209588635052906,-0.21785608945172658,0.8804930845620075,-0.5592226144321499,1.3135107263985872,-0.3295560202999263,1.4493129162338922,1.4610511977302483,0.3538939323532721,-0.4824777403173246,-0.9532228318578565,-0.6219994998317233,0.7364990595554025,0.02547206977352124,3.1714018119565273,-0.5729860957591906,1.8803894035298434,-2.4951178482385514,0.5990677177778881,0.9242983903323806,-0.08369956182663404,0.5531858727173157,1.3463454700052335,1.6563496516538145,0.6859142341019333,0.12017717153117742,-0.8548536986282931,-0.18123464670189537,0.9761049248692409,0.30591460284863276,-0.12374684280922013,-0.2907431919138411,0.2575923559600128,1.628580865254623,1.19931047992215,0.6202205771758299,-1.0101978354959809,-2.4596635856425855,-0.5195715301909966,0.9381593580555105,1.5369611139443051,-0.05370209843225781,-0.9451204619621615,0.30017874846009035,-0.4189393320998618,-0.5050704276062342,0.5330964152381575,1.4322031848548527,-0.8752817510419094,1.284544340753406,0.8783030460645591,-1.3140469813477815,0.8343820727123582,0.8528729070269835,0.927646334959524,0.8777885802143166,-1.9764539877455358,0.1217211984056319,-0.7266183064516655,-0.8464948606909891,1.3406890862367948,0.5510778708023629,-0.24472126698849006,1.6215373793442809,-0.12763169414566916,1.660934824427887,-0.639824993820561,0.9217901044364382,1.191952583940665,0.9847824586452348,0.8095023414804613,-0.0005920928274288807,-1.759158650383085,-0.8439674906655341,-0.9965386726808999,0.4734543687198689,-1.396361951637585,-0.13463518233460914,0.7305266571909985,0.848594008155161,1.1251234892905684,0.4220620355682323,0.5814157935018508,-0.6538642263230049,1.0419274338957114,-1.6823003271937598,0.08190858530772568,1.5263702057888369,0.5043762600896187,1.1204833999444328,-0.45287472912188187,1.7919975474406165,-2.652494764549564,1.3089501932653316,1.230782712982478,-0.8212782140144825,1.1912496324319284,-1.3025929255979247,-1.1409293093251685,-0.4951125350437832,-0.33195454839814664,0.8732346887037643,0.07635321774800324,1.046010960227857,-1.1582799891477749,0.13916828903636272,1.0064592667443375,-1.0000075793413168,-0.007951717516425155,-0.41873752454411783,0.04229902473509407,0.6356115678876773,0.15333702381833378,1.108212628340786,0.5629871474282939,0.268992164548751,0.5783675220135628,0.06692065357890455,0.02373604479624672,0.5070247335456723,0.38769061045454095,-2.2182275568342282,-0.34059580257271743,0.7880608382674792,0.24182271417158574,-1.7601802436425988,1.1154225242698288,-0.23462634247891967,0.19657041995851557,0.8545223275659418,0.9729193451702217,1.8137596881296918,-1.081031952510745,-2.08235373188786,-1.3204312898928277,1.1241470487538465,0.3878054607274193,0.8573541089508313,-1.1315990044407083,-0.7595873439760544,-0.2691126276166993,1.0950163350412212,-0.31563002990464534,-1.1150804790073112,-2.2331303468608215,-1.5227987394260696,-0.372842975989515,0.28297773754604666,1.407891746034687,0.6574177479315917,4.460976231322687,1.0696078649436382,0.729279414322417,1.2130661694974192,1.0120747313638585,1.1987298259343098,0.9580163467967129,1.5291588241476157,1.5147493429027599,1.4452342274094536,2.1760413930585814,0.8571692532347996,0.8165606040885969,1.099024370551851,0.2164410779626881,0.7111999526632168,0.17752438960237518,2.1146504777588895,1.4053971138236345,0.6643901811666929,-1.625921007336339,-0.5723117874233008,0.27256629102019164,0.8239115115630877,0.6092723072338784,0.8143991937218311,0.6160592051989122,0.8197973710884727,2.0361434412161583,1.2776015546590282,0.33158572241124495,1.2476231146294996,1.2958278258165348,0.8657706057308379,2.253327367802139,0.5100674083062233,0.5776034975018824,0.1261308853088289,0.9192049674377911,-0.24156709873820753,1.361928258522711,-1.5953302745665985,-0.5239831153784957,1.2752905505538175,-0.6333164993106947,0.9913430339475519,0.1698266908694483,1.0358202018162985,1.085385602473951,0.5290071574261807,1.31155018978971,0.5816232737665689,-0.4442643468093316,0.6225000919115834,-0.7817435191716416,0.61900061493211,-1.8754808524065623,-0.1513942708065434,0.9343713249386413,0.20226550603580382,0.1984151779402493,-0.176548533870343,1.3055258302601942,0.9435644124926705,1.2152200011977778,-0.396093420782475,0.6040476197425073,0.9243875649660872,0.5013547775379834,-1.8936316609190569,-0.35096622499959107,-0.47934901570126853,0.09016051464794964,-0.27787490930569664,-0.7833827206382101,0.5523111199039871,0.532728329104852,0.6169779405897791,0.5567931145116828,-0.6955388104399652,0.4273073972528974,-2.330707429016533,0.9319241307431878,-0.000903477627465045,0.22583592250218543,1.9986945417680373,-2.217474262653922,-0.322892758282706,0.80222396465946,0.1625750024472097,0.8307848324562137,0.32995972563777143,-0.14051239571456775,-0.07541398564574882,-1.5454461059974853,1.2636342058258927,1.7358923762653027,-1.91028953199047,0.9153896329162653,-1.8069507962130908,0.6755438610636723,0.5745032160584157,-2.2020412131398244,-2.0238783136353162,-1.1418324652977025,1.2299191201832682,0.37195496790359134,1.322371473564623,-0.404762201100609,1.361742673562923,1.5255162317232096,0.19235852507072293,1.2307697300531932,0.7570699531883389,1.021241715114674,-0.1700506804034645,1.5942955833817845,-0.1341821605438389,2.14068794794708,-0.7465210299327443,-0.10336265912828314,1.2987101724295211,-0.29134844026068984,0.7637147845224725,-0.3647917505400603,-0.1725699940198179,0.1558223615307793,1.0641464056872718,1.0280061488324348,-2.1184142347647117,1.1311661351729343,0.5068941551914462,-0.29144108106013744,0.53210595098391,-1.986470416427954,-1.7312013305428453,-1.3377462395976325,0.8522822975463819,0.25519724993550835,0.4449167283468547,1.3455189412362492,0.7834122436967568,-0.7668674572521249,-0.2782359967508334,-0.6912601765607571,0.3615544538095475,1.0558756812459336,0.18849112106989407,1.2547242440012683,1.0680408694096997,0.6601166541105591,-1.3872922476357994,0.42706042968650937,-2.0947351053022643,-1.9974923679914314,1.2630024087882776,-0.30735674778464483,1.2238979645551065,0.5862688415659634,2.526264496582466,0.4897712348873915,-1.4288965483459892,1.489388709447501,1.1244894228289568,0.935146190873348,-0.06070563754359375,0.7251322518197129,1.0460558358490004,1.749255052994271,0.04303046201165565,0.5847157913762512,0.38883862078540216,0.831413967582578,-0.052595259272475096,-0.8894784575660569,1.2148652506788564,0.3056670154514371,2.5685228662218256,-0.9637621823226699,0.40015631346838665,-0.0387559049479203,0.5569888013739062,0.5093256783730479,0.21271902770639328,-1.7451920446079756,0.7712437071631195,0.9995223884238781,0.37587727297262513,0.34668772718008295,-0.9763927837194006,-1.3609893038393328,0.927308921355918,0.7709513732708155,1.0590081616521059,-0.5493434882033035,0.34436609254473616,1.2190785500023353,-0.604370331874178,1.0691036640229927,1.170772477851582,0.5641388735436585,0.22682078365766414,0.28751228402854007,0.4902481772631646,1.4223883886029702,1.1056457001088495,-2.9641273663499845,-2.430022184027651,0.8856155369591732,-0.3888262023660299,-1.3383654985371092,-0.9343766030446001,1.2276585402766995,-1.4339436227613014,-0.283209913418737,-2.334046980826461,-0.00853029028847562,1.1494440285987921,1.5868399509471776,0.6788254217409323,-0.09702096122303296,0.6100987396321068,0.33109880920668483,0.5212429337698637,1.5949854817449272,-0.08175271788360342,1.0162080255681019,0.3848190149484611,0.8622243694981362,-0.22671580375218398,-0.44431005789093614,0.34284564557535735,-1.027848118091547,0.017122086121955215,-0.1741138238828655,0.0021836147840689824,-0.3528043606997021,-0.12808565898024415,0.8961488676472847,-0.5601054417142802,-0.8168873658868405,1.160589549850588,0.09762680932519603,0.6204636902849736,-0.9585218113036604,-0.97491663278487,-0.29814607216497624,0.6027417533876742,0.8885689255665771,0.15458971305221925,0.06656380020613029,1.018840294820493,-0.3959020396957202,0.3179257382792426,1.3300633013173349,-0.2474681448012219,0.3890875078401719,0.5239696863264697,0.6756473063953888,-0.7677857662788317,-0.9233462658037999,1.0956493133797254,0.36662678835441576,0.73293683789428,-0.20614013036237894,-0.496442599727448,1.6549244282118265,-0.7522452130426461,-1.543602295773421,0.2573214514799097,0.0937026849274633,1.1525256328492557],\"yaxis\":\"y\",\"type\":\"scatter\"}],                        {\"template\":{\"data\":{\"histogram2dcontour\":[{\"type\":\"histogram2dcontour\",\"colorbar\":{\"outlinewidth\":0,\"ticks\":\"\"},\"colorscale\":[[0.0,\"#0d0887\"],[0.1111111111111111,\"#46039f\"],[0.2222222222222222,\"#7201a8\"],[0.3333333333333333,\"#9c179e\"],[0.4444444444444444,\"#bd3786\"],[0.5555555555555556,\"#d8576b\"],[0.6666666666666666,\"#ed7953\"],[0.7777777777777778,\"#fb9f3a\"],[0.8888888888888888,\"#fdca26\"],[1.0,\"#f0f921\"]]}],\"choropleth\":[{\"type\":\"choropleth\",\"colorbar\":{\"outlinewidth\":0,\"ticks\":\"\"}}],\"histogram2d\":[{\"type\":\"histogram2d\",\"colorbar\":{\"outlinewidth\":0,\"ticks\":\"\"},\"colorscale\":[[0.0,\"#0d0887\"],[0.1111111111111111,\"#46039f\"],[0.2222222222222222,\"#7201a8\"],[0.3333333333333333,\"#9c179e\"],[0.4444444444444444,\"#bd3786\"],[0.5555555555555556,\"#d8576b\"],[0.6666666666666666,\"#ed7953\"],[0.7777777777777778,\"#fb9f3a\"],[0.8888888888888888,\"#fdca26\"],[1.0,\"#f0f921\"]]}],\"heatmap\":[{\"type\":\"heatmap\",\"colorbar\":{\"outlinewidth\":0,\"ticks\":\"\"},\"colorscale\":[[0.0,\"#0d0887\"],[0.1111111111111111,\"#46039f\"],[0.2222222222222222,\"#7201a8\"],[0.3333333333333333,\"#9c179e\"],[0.4444444444444444,\"#bd3786\"],[0.5555555555555556,\"#d8576b\"],[0.6666666666666666,\"#ed7953\"],[0.7777777777777778,\"#fb9f3a\"],[0.8888888888888888,\"#fdca26\"],[1.0,\"#f0f921\"]]}],\"heatmapgl\":[{\"type\":\"heatmapgl\",\"colorbar\":{\"outlinewidth\":0,\"ticks\":\"\"},\"colorscale\":[[0.0,\"#0d0887\"],[0.1111111111111111,\"#46039f\"],[0.2222222222222222,\"#7201a8\"],[0.3333333333333333,\"#9c179e\"],[0.4444444444444444,\"#bd3786\"],[0.5555555555555556,\"#d8576b\"],[0.6666666666666666,\"#ed7953\"],[0.7777777777777778,\"#fb9f3a\"],[0.8888888888888888,\"#fdca26\"],[1.0,\"#f0f921\"]]}],\"contourcarpet\":[{\"type\":\"contourcarpet\",\"colorbar\":{\"outlinewidth\":0,\"ticks\":\"\"}}],\"contour\":[{\"type\":\"contour\",\"colorbar\":{\"outlinewidth\":0,\"ticks\":\"\"},\"colorscale\":[[0.0,\"#0d0887\"],[0.1111111111111111,\"#46039f\"],[0.2222222222222222,\"#7201a8\"],[0.3333333333333333,\"#9c179e\"],[0.4444444444444444,\"#bd3786\"],[0.5555555555555556,\"#d8576b\"],[0.6666666666666666,\"#ed7953\"],[0.7777777777777778,\"#fb9f3a\"],[0.8888888888888888,\"#fdca26\"],[1.0,\"#f0f921\"]]}],\"surface\":[{\"type\":\"surface\",\"colorbar\":{\"outlinewidth\":0,\"ticks\":\"\"},\"colorscale\":[[0.0,\"#0d0887\"],[0.1111111111111111,\"#46039f\"],[0.2222222222222222,\"#7201a8\"],[0.3333333333333333,\"#9c179e\"],[0.4444444444444444,\"#bd3786\"],[0.5555555555555556,\"#d8576b\"],[0.6666666666666666,\"#ed7953\"],[0.7777777777777778,\"#fb9f3a\"],[0.8888888888888888,\"#fdca26\"],[1.0,\"#f0f921\"]]}],\"mesh3d\":[{\"type\":\"mesh3d\",\"colorbar\":{\"outlinewidth\":0,\"ticks\":\"\"}}],\"scatter\":[{\"fillpattern\":{\"fillmode\":\"overlay\",\"size\":10,\"solidity\":0.2},\"type\":\"scatter\"}],\"parcoords\":[{\"type\":\"parcoords\",\"line\":{\"colorbar\":{\"outlinewidth\":0,\"ticks\":\"\"}}}],\"scatterpolargl\":[{\"type\":\"scatterpolargl\",\"marker\":{\"colorbar\":{\"outlinewidth\":0,\"ticks\":\"\"}}}],\"bar\":[{\"error_x\":{\"color\":\"#2a3f5f\"},\"error_y\":{\"color\":\"#2a3f5f\"},\"marker\":{\"line\":{\"color\":\"#E5ECF6\",\"width\":0.5},\"pattern\":{\"fillmode\":\"overlay\",\"size\":10,\"solidity\":0.2}},\"type\":\"bar\"}],\"scattergeo\":[{\"type\":\"scattergeo\",\"marker\":{\"colorbar\":{\"outlinewidth\":0,\"ticks\":\"\"}}}],\"scatterpolar\":[{\"type\":\"scatterpolar\",\"marker\":{\"colorbar\":{\"outlinewidth\":0,\"ticks\":\"\"}}}],\"histogram\":[{\"marker\":{\"pattern\":{\"fillmode\":\"overlay\",\"size\":10,\"solidity\":0.2}},\"type\":\"histogram\"}],\"scattergl\":[{\"type\":\"scattergl\",\"marker\":{\"colorbar\":{\"outlinewidth\":0,\"ticks\":\"\"}}}],\"scatter3d\":[{\"type\":\"scatter3d\",\"line\":{\"colorbar\":{\"outlinewidth\":0,\"ticks\":\"\"}},\"marker\":{\"colorbar\":{\"outlinewidth\":0,\"ticks\":\"\"}}}],\"scattermapbox\":[{\"type\":\"scattermapbox\",\"marker\":{\"colorbar\":{\"outlinewidth\":0,\"ticks\":\"\"}}}],\"scatterternary\":[{\"type\":\"scatterternary\",\"marker\":{\"colorbar\":{\"outlinewidth\":0,\"ticks\":\"\"}}}],\"scattercarpet\":[{\"type\":\"scattercarpet\",\"marker\":{\"colorbar\":{\"outlinewidth\":0,\"ticks\":\"\"}}}],\"carpet\":[{\"aaxis\":{\"endlinecolor\":\"#2a3f5f\",\"gridcolor\":\"white\",\"linecolor\":\"white\",\"minorgridcolor\":\"white\",\"startlinecolor\":\"#2a3f5f\"},\"baxis\":{\"endlinecolor\":\"#2a3f5f\",\"gridcolor\":\"white\",\"linecolor\":\"white\",\"minorgridcolor\":\"white\",\"startlinecolor\":\"#2a3f5f\"},\"type\":\"carpet\"}],\"table\":[{\"cells\":{\"fill\":{\"color\":\"#EBF0F8\"},\"line\":{\"color\":\"white\"}},\"header\":{\"fill\":{\"color\":\"#C8D4E3\"},\"line\":{\"color\":\"white\"}},\"type\":\"table\"}],\"barpolar\":[{\"marker\":{\"line\":{\"color\":\"#E5ECF6\",\"width\":0.5},\"pattern\":{\"fillmode\":\"overlay\",\"size\":10,\"solidity\":0.2}},\"type\":\"barpolar\"}],\"pie\":[{\"automargin\":true,\"type\":\"pie\"}]},\"layout\":{\"autotypenumbers\":\"strict\",\"colorway\":[\"#636efa\",\"#EF553B\",\"#00cc96\",\"#ab63fa\",\"#FFA15A\",\"#19d3f3\",\"#FF6692\",\"#B6E880\",\"#FF97FF\",\"#FECB52\"],\"font\":{\"color\":\"#2a3f5f\"},\"hovermode\":\"closest\",\"hoverlabel\":{\"align\":\"left\"},\"paper_bgcolor\":\"white\",\"plot_bgcolor\":\"#E5ECF6\",\"polar\":{\"bgcolor\":\"#E5ECF6\",\"angularaxis\":{\"gridcolor\":\"white\",\"linecolor\":\"white\",\"ticks\":\"\"},\"radialaxis\":{\"gridcolor\":\"white\",\"linecolor\":\"white\",\"ticks\":\"\"}},\"ternary\":{\"bgcolor\":\"#E5ECF6\",\"aaxis\":{\"gridcolor\":\"white\",\"linecolor\":\"white\",\"ticks\":\"\"},\"baxis\":{\"gridcolor\":\"white\",\"linecolor\":\"white\",\"ticks\":\"\"},\"caxis\":{\"gridcolor\":\"white\",\"linecolor\":\"white\",\"ticks\":\"\"}},\"coloraxis\":{\"colorbar\":{\"outlinewidth\":0,\"ticks\":\"\"}},\"colorscale\":{\"sequential\":[[0.0,\"#0d0887\"],[0.1111111111111111,\"#46039f\"],[0.2222222222222222,\"#7201a8\"],[0.3333333333333333,\"#9c179e\"],[0.4444444444444444,\"#bd3786\"],[0.5555555555555556,\"#d8576b\"],[0.6666666666666666,\"#ed7953\"],[0.7777777777777778,\"#fb9f3a\"],[0.8888888888888888,\"#fdca26\"],[1.0,\"#f0f921\"]],\"sequentialminus\":[[0.0,\"#0d0887\"],[0.1111111111111111,\"#46039f\"],[0.2222222222222222,\"#7201a8\"],[0.3333333333333333,\"#9c179e\"],[0.4444444444444444,\"#bd3786\"],[0.5555555555555556,\"#d8576b\"],[0.6666666666666666,\"#ed7953\"],[0.7777777777777778,\"#fb9f3a\"],[0.8888888888888888,\"#fdca26\"],[1.0,\"#f0f921\"]],\"diverging\":[[0,\"#8e0152\"],[0.1,\"#c51b7d\"],[0.2,\"#de77ae\"],[0.3,\"#f1b6da\"],[0.4,\"#fde0ef\"],[0.5,\"#f7f7f7\"],[0.6,\"#e6f5d0\"],[0.7,\"#b8e186\"],[0.8,\"#7fbc41\"],[0.9,\"#4d9221\"],[1,\"#276419\"]]},\"xaxis\":{\"gridcolor\":\"white\",\"linecolor\":\"white\",\"ticks\":\"\",\"title\":{\"standoff\":15},\"zerolinecolor\":\"white\",\"automargin\":true,\"zerolinewidth\":2},\"yaxis\":{\"gridcolor\":\"white\",\"linecolor\":\"white\",\"ticks\":\"\",\"title\":{\"standoff\":15},\"zerolinecolor\":\"white\",\"automargin\":true,\"zerolinewidth\":2},\"scene\":{\"xaxis\":{\"backgroundcolor\":\"#E5ECF6\",\"gridcolor\":\"white\",\"linecolor\":\"white\",\"showbackground\":true,\"ticks\":\"\",\"zerolinecolor\":\"white\",\"gridwidth\":2},\"yaxis\":{\"backgroundcolor\":\"#E5ECF6\",\"gridcolor\":\"white\",\"linecolor\":\"white\",\"showbackground\":true,\"ticks\":\"\",\"zerolinecolor\":\"white\",\"gridwidth\":2},\"zaxis\":{\"backgroundcolor\":\"#E5ECF6\",\"gridcolor\":\"white\",\"linecolor\":\"white\",\"showbackground\":true,\"ticks\":\"\",\"zerolinecolor\":\"white\",\"gridwidth\":2}},\"shapedefaults\":{\"line\":{\"color\":\"#2a3f5f\"}},\"annotationdefaults\":{\"arrowcolor\":\"#2a3f5f\",\"arrowhead\":0,\"arrowwidth\":1},\"geo\":{\"bgcolor\":\"white\",\"landcolor\":\"#E5ECF6\",\"subunitcolor\":\"white\",\"showland\":true,\"showlakes\":true,\"lakecolor\":\"white\"},\"title\":{\"x\":0.05},\"mapbox\":{\"style\":\"light\"}}},\"xaxis\":{\"anchor\":\"y\",\"domain\":[0.0,1.0],\"title\":{\"text\":\"x\"}},\"yaxis\":{\"anchor\":\"x\",\"domain\":[0.0,1.0],\"title\":{\"text\":\"y\"}},\"legend\":{\"title\":{\"text\":\"color\"},\"tracegroupgap\":0},\"margin\":{\"t\":60}},                        {\"responsive\": true}                    ).then(function(){\n",
       "                            \n",
       "var gd = document.getElementById('fb62b535-575a-4226-b3b6-3fa287d32a70');\n",
       "var x = new MutationObserver(function (mutations, observer) {{\n",
       "        var display = window.getComputedStyle(gd).display;\n",
       "        if (!display || display === 'none') {{\n",
       "            console.log([gd, 'removed!']);\n",
       "            Plotly.purge(gd);\n",
       "            observer.disconnect();\n",
       "        }}\n",
       "}});\n",
       "\n",
       "// Listen for the removal of the full notebook cells\n",
       "var notebookContainer = gd.closest('#notebook-container');\n",
       "if (notebookContainer) {{\n",
       "    x.observe(notebookContainer, {childList: true});\n",
       "}}\n",
       "\n",
       "// Listen for the clearing of the current output cell\n",
       "var outputEl = gd.closest('.output');\n",
       "if (outputEl) {{\n",
       "    x.observe(outputEl, {childList: true});\n",
       "}}\n",
       "\n",
       "                        })                };                });            </script>        </div>"
      ]
     },
     "metadata": {},
     "output_type": "display_data"
    }
   ],
   "source": [
    "import plotly.express as px\n",
    "\n",
    "new_df['Outcome']=new_df['Outcome'].astype('str')\n",
    "fig=px.scatter(x=new_df['PC1'],\n",
    "               y=new_df['PC2'],\n",
    "               color=new_df['Outcome'],\n",
    "               color_discrete_sequence=px.colors.qualitative.G10)\n",
    "fig.update_traces(marker=dict(size=9,\n",
    "                             line=dict(width=1,\n",
    "                                      color='black')),\n",
    "                 selector=dict(mode='markers'))\n",
    "fig.show()"
   ]
  },
  {
   "cell_type": "markdown",
   "id": "ee74974c-b4f8-4ea6-9323-8c53bc2028ea",
   "metadata": {},
   "source": [
    "###\n",
    "### 12. New DataFrame\n",
    "###"
   ]
  },
  {
   "cell_type": "code",
   "execution_count": 178,
   "id": "a2f6289e-c449-45fc-9fb0-f39949bc2904",
   "metadata": {},
   "outputs": [
    {
     "data": {
      "text/html": [
       "<div>\n",
       "<style scoped>\n",
       "    .dataframe tbody tr th:only-of-type {\n",
       "        vertical-align: middle;\n",
       "    }\n",
       "\n",
       "    .dataframe tbody tr th {\n",
       "        vertical-align: top;\n",
       "    }\n",
       "\n",
       "    .dataframe thead th {\n",
       "        text-align: right;\n",
       "    }\n",
       "</style>\n",
       "<table border=\"1\" class=\"dataframe\">\n",
       "  <thead>\n",
       "    <tr style=\"text-align: right;\">\n",
       "      <th></th>\n",
       "      <th>PC1</th>\n",
       "      <th>PC2</th>\n",
       "      <th>Outcome</th>\n",
       "    </tr>\n",
       "  </thead>\n",
       "  <tbody>\n",
       "    <tr>\n",
       "      <th>0</th>\n",
       "      <td>-0.355075</td>\n",
       "      <td>-0.507317</td>\n",
       "      <td>1</td>\n",
       "    </tr>\n",
       "    <tr>\n",
       "      <th>1</th>\n",
       "      <td>0.768246</td>\n",
       "      <td>1.102389</td>\n",
       "      <td>0</td>\n",
       "    </tr>\n",
       "    <tr>\n",
       "      <th>2</th>\n",
       "      <td>-1.749747</td>\n",
       "      <td>-0.514054</td>\n",
       "      <td>1</td>\n",
       "    </tr>\n",
       "    <tr>\n",
       "      <th>3</th>\n",
       "      <td>0.615796</td>\n",
       "      <td>0.918929</td>\n",
       "      <td>0</td>\n",
       "    </tr>\n",
       "    <tr>\n",
       "      <th>4</th>\n",
       "      <td>0.919575</td>\n",
       "      <td>2.358007</td>\n",
       "      <td>1</td>\n",
       "    </tr>\n",
       "    <tr>\n",
       "      <th>...</th>\n",
       "      <td>...</td>\n",
       "      <td>...</td>\n",
       "      <td>...</td>\n",
       "    </tr>\n",
       "    <tr>\n",
       "      <th>763</th>\n",
       "      <td>0.120911</td>\n",
       "      <td>-1.543602</td>\n",
       "      <td>0</td>\n",
       "    </tr>\n",
       "    <tr>\n",
       "      <th>764</th>\n",
       "      <td>0.519900</td>\n",
       "      <td>0.257321</td>\n",
       "      <td>0</td>\n",
       "    </tr>\n",
       "    <tr>\n",
       "      <th>765</th>\n",
       "      <td>-0.468015</td>\n",
       "      <td>0.093703</td>\n",
       "      <td>0</td>\n",
       "    </tr>\n",
       "    <tr>\n",
       "      <th>766</th>\n",
       "      <td>0.204155</td>\n",
       "      <td>-0.768136</td>\n",
       "      <td>1</td>\n",
       "    </tr>\n",
       "    <tr>\n",
       "      <th>767</th>\n",
       "      <td>0.741849</td>\n",
       "      <td>1.152526</td>\n",
       "      <td>0</td>\n",
       "    </tr>\n",
       "  </tbody>\n",
       "</table>\n",
       "<p>768 rows × 3 columns</p>\n",
       "</div>"
      ],
      "text/plain": [
       "          PC1       PC2 Outcome\n",
       "0   -0.355075 -0.507317       1\n",
       "1    0.768246  1.102389       0\n",
       "2   -1.749747 -0.514054       1\n",
       "3    0.615796  0.918929       0\n",
       "4    0.919575  2.358007       1\n",
       "..        ...       ...     ...\n",
       "763  0.120911 -1.543602       0\n",
       "764  0.519900  0.257321       0\n",
       "765 -0.468015  0.093703       0\n",
       "766  0.204155 -0.768136       1\n",
       "767  0.741849  1.152526       0\n",
       "\n",
       "[768 rows x 3 columns]"
      ]
     },
     "execution_count": 178,
     "metadata": {},
     "output_type": "execute_result"
    }
   ],
   "source": [
    "new_df"
   ]
  },
  {
   "cell_type": "markdown",
   "id": "ecfc7fdf-5e24-4967-a4c8-b64b10607e0c",
   "metadata": {},
   "source": [
    "###\n",
    "### 13. Dividing data into input and output columns\n",
    "###"
   ]
  },
  {
   "cell_type": "code",
   "execution_count": 292,
   "id": "715ee8dc-1482-4dd8-88f6-c084f7a6bb56",
   "metadata": {},
   "outputs": [],
   "source": [
    "X_new=new_df.iloc[:,:2]\n",
    "y_new=new_df.iloc[:,-1]"
   ]
  },
  {
   "cell_type": "markdown",
   "id": "c09668d9-210a-4edd-8d30-8c48d677878d",
   "metadata": {},
   "source": [
    "###\n",
    "### 14. Converting DataFrame into numpy arrays for easy calculation later\n",
    "###"
   ]
  },
  {
   "cell_type": "code",
   "execution_count": 316,
   "id": "a3563e81-abc3-4b4b-9870-772634d878d9",
   "metadata": {},
   "outputs": [],
   "source": [
    "X_new=np.array(X_new)\n",
    "y_new=np.array(y_new).astype(int)\n"
   ]
  },
  {
   "cell_type": "markdown",
   "id": "d735da9e-8397-44e8-8a4f-fc4d5c6f5295",
   "metadata": {},
   "source": [
    "###\n",
    "### 15. Dividing data into training and testing sets\n",
    "###"
   ]
  },
  {
   "cell_type": "code",
   "execution_count": 334,
   "id": "243a55c0-3596-4eeb-8c25-c76d8c40f63f",
   "metadata": {},
   "outputs": [],
   "source": [
    "X_train,X_test,y_train,y_test=train_test_split(X_new,y_new,test_size=0.2,random_state=99)\n"
   ]
  },
  {
   "cell_type": "markdown",
   "id": "e2e52fc4-b293-460b-be39-5bdbb3fdeca8",
   "metadata": {},
   "source": [
    "###\n",
    "### 16. Importing important libraries\n",
    "###"
   ]
  },
  {
   "cell_type": "code",
   "execution_count": 335,
   "id": "027f37f3-e294-4c63-9d03-b1d01490f77e",
   "metadata": {},
   "outputs": [],
   "source": [
    "from sklearn.datasets import make_classification\n",
    "from sklearn.metrics import accuracy_score"
   ]
  },
  {
   "cell_type": "markdown",
   "id": "958e0063-13c0-4392-9de8-ce6ccad61eba",
   "metadata": {},
   "source": [
    "###\n",
    "### 17. Function for implementing Least Square Classifier\n",
    "###"
   ]
  },
  {
   "cell_type": "code",
   "execution_count": 336,
   "id": "95c9526e-2a5d-4d7b-b046-f87b1caef9e4",
   "metadata": {},
   "outputs": [],
   "source": [
    "# Least Squares Classifier\n",
    "class LeastSquaresClassifier:\n",
    "    def __init__(self):\n",
    "        self.weights = None\n",
    "    \n",
    "    def fit(self, X, y):\n",
    "        # Append a bias term for intercept inclusion (column of ones)\n",
    "        X_bias = np.c_[np.ones(X.shape[0]), X]\n",
    "        \n",
    "        # Solve for weights using the normal equation: w = (X.T X)^(-1) X.T y\n",
    "        self.weights = np.linalg.pinv(X_bias.T @ X_bias) @ X_bias.T @ y\n",
    "    \n",
    "    def predict(self, X):\n",
    "        # Append a bias term (column of ones)\n",
    "        X_bias = np.c_[np.ones(X.shape[0]), X]\n",
    "        \n",
    "        # Predict labels\n",
    "        predictions = X_bias @ self.weights\n",
    "        \n",
    "        # Convert predictions to 0 or 1\n",
    "        return np.where(predictions >= 0.5, 1, 0)\n",
    "\n",
    "\n"
   ]
  },
  {
   "cell_type": "markdown",
   "id": "d5267911-411c-477b-9610-fb03c2efc6b7",
   "metadata": {},
   "source": [
    "###\n",
    "### 18. Train the model\n",
    "###"
   ]
  },
  {
   "cell_type": "code",
   "execution_count": 337,
   "id": "c75f7afb-4395-4d87-b4cc-33d88da82f67",
   "metadata": {},
   "outputs": [],
   "source": [
    "model = LeastSquaresClassifier()\n",
    "model.fit(X_train, y_train)"
   ]
  },
  {
   "cell_type": "markdown",
   "id": "2a6b9faf-d1f1-4890-ab78-3e6dff744333",
   "metadata": {},
   "source": [
    "###\n",
    "### 19. Make predictions\n",
    "###"
   ]
  },
  {
   "cell_type": "code",
   "execution_count": 338,
   "id": "7e2d9bd3-0143-44ec-93f6-592c461ca79e",
   "metadata": {},
   "outputs": [],
   "source": [
    "y_pred_train = model.predict(X_train)\n",
    "y_pred_test = model.predict(X_test)"
   ]
  },
  {
   "cell_type": "markdown",
   "id": "df8b5bce-b5ec-4226-a4d1-3c14b37e865e",
   "metadata": {},
   "source": [
    "###\n",
    "### 20. Checking accuracy of the model\n",
    "###"
   ]
  },
  {
   "cell_type": "code",
   "execution_count": 339,
   "id": "20ff85d8-8dfb-47ae-bc75-3f2052bb2418",
   "metadata": {},
   "outputs": [
    {
     "name": "stdout",
     "output_type": "stream",
     "text": [
      "Training Accuracy: 68.40%\n",
      "Testing Accuracy: 75.32%\n"
     ]
    }
   ],
   "source": [
    "train_accuracy = accuracy_score(y_train, y_pred_train)\n",
    "test_accuracy = accuracy_score(y_test, y_pred_test)\n",
    "\n",
    "print(f\"Training Accuracy: {train_accuracy * 100:.2f}%\")\n",
    "print(f\"Testing Accuracy: {test_accuracy * 100:.2f}%\")"
   ]
  },
  {
   "cell_type": "code",
   "execution_count": null,
   "id": "dc7ccefd-3577-4fc5-8d92-2184b6c32c55",
   "metadata": {},
   "outputs": [],
   "source": []
  }
 ],
 "metadata": {
  "kernelspec": {
   "display_name": "Python 3 (ipykernel)",
   "language": "python",
   "name": "python3"
  },
  "language_info": {
   "codemirror_mode": {
    "name": "ipython",
    "version": 3
   },
   "file_extension": ".py",
   "mimetype": "text/x-python",
   "name": "python",
   "nbconvert_exporter": "python",
   "pygments_lexer": "ipython3",
   "version": "3.12.7"
  }
 },
 "nbformat": 4,
 "nbformat_minor": 5
}
